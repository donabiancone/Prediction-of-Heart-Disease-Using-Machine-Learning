{
 "cells": [
  {
   "cell_type": "markdown",
   "metadata": {},
   "source": [
    "# Machine Learning e Laboratorio\n",
    "\n",
    "#### Donatella Biancone"
   ]
  },
  {
   "cell_type": "markdown",
   "metadata": {},
   "source": [
    "## 1. Dataset\n",
    "\n",
    "Il dataset è stato creato a partire dai dati relativi ai ricoveri in ospedale per malattie cardiache. Ciascun paziente è descritto da 13 caratteristiche sia categoriche che numeriche e dalla classe (TARGET). Il dataset completo presenta esattamente 300 istanze e la descrizione delle features è la seguente: \n",
    "\n",
    "1. **age** - età in anni; \n",
    "2. **sex** - (1 = uomo, 0 = donna); \n",
    "3. **cp** - tipologia di dolore toracico (0 = asintomatico, 1 = angina atipica, 2 = no angina, 3 = angina); \n",
    "4. **trestbps** - pressione sanguigna a riposo al ricovero in mmHg; \n",
    "5. **chol** - colesterolo sierico in mg/dl; \n",
    "6. **fbs** - glicemia a digiuno > 120 mg/dl (1 = si, 0 = no); \n",
    "7. **restecg** - elettrocadiogramma a riposo (0 = ipertrofia ventricolare sinistra, 1 = normale, 2 = anomalia dell’onda ST-T); \n",
    "8. **thalach** - massima frequenza cardiaca raggiunta; \n",
    "9. **exang** - angina indotta dall’esercizio (1 = si; 0 = no); \n",
    "10. **oldpeak** - depressione del tratto ST indotto dall’esercizio rispetto al riposo; \n",
    "11. **slope** - pendenza del picco del segmento ST durante l’esercizio (0 = in discesa, 1 = piatto, 2 = in pendenza); \n",
    "12. **ca** - numero di vasi sanguigni (0 - 3) colorati colorate mediante fluoro-scopia; \n",
    "13. **thal** - thalium stress test (1 = difetto risolto, 2 = normale, 3 = difetto reversibile); \n",
    "14. **TARGET** - presenza o meno della malattia (1 = si, 0 = no).\n",
    "\n",
    "## 2. Obiettivo\n",
    "\n",
    "Obiettivo del progetto è risolvere un problema di classificazione binaria utilizzando e valutando diversi algoritmi di machine learning, per predire se un paziente è affetto o meno da patologia cardiaca.\n",
    "\n",
    "## 3. Implementazione\n",
    "\n",
    "Per l'implementazione dei modelli di classificazione verranno utilizzati i seguenti approcci:\n",
    "\n",
    "- Logistic Regression\n",
    "- Naive Bayes\n",
    "- SVM\n",
    "- Decision Tree\n",
    "- Random Forest\n",
    "- kNN\n",
    "- XGboost\n",
    "- Reti Neurali\n",
    "\n",
    "Alcuni, come la regressione logistica, SVM, KNN, reti neurali, sono stati trattati durante le lezioni. Sono stati sperimentati, oltre a questi, altri algoritmi che per conoscenza ed esperienza passata ho utilizzato e risultano performare bene su problemi di classificazione binaria.\n",
    "\n",
    "### 3.1. Import delle librerie necessarie"
   ]
  },
  {
   "cell_type": "code",
   "execution_count": 1,
   "metadata": {},
   "outputs": [
    {
     "name": "stderr",
     "output_type": "stream",
     "text": [
      "Using TensorFlow backend.\n"
     ]
    }
   ],
   "source": [
    "# Basic\n",
    "import numpy as np\n",
    "import pandas as pd\n",
    "import seaborn as sns\n",
    "import matplotlib.pyplot as plt\n",
    "from matplotlib import rcParams\n",
    "from matplotlib.cm import rainbow\n",
    "%matplotlib inline\n",
    "import warnings\n",
    "warnings.filterwarnings('ignore')\n",
    "\n",
    "# Other libraries\n",
    "from sklearn.model_selection import train_test_split\n",
    "from sklearn.preprocessing import StandardScaler\n",
    "from sklearn.metrics import accuracy_score\n",
    "from sklearn.model_selection import RandomizedSearchCV\n",
    "from sklearn.model_selection import RepeatedStratifiedKFold\n",
    "from sklearn.model_selection import GridSearchCV\n",
    "from sklearn.metrics import confusion_matrix\n",
    "\n",
    "# Machine Learning\n",
    "from sklearn.linear_model import LogisticRegression\n",
    "from sklearn.naive_bayes import GaussianNB\n",
    "from sklearn.neighbors import KNeighborsClassifier\n",
    "from sklearn.svm import SVC\n",
    "from sklearn.tree import DecisionTreeClassifier\n",
    "from sklearn.ensemble import RandomForestClassifier\n",
    "from xgboost import XGBClassifier\n",
    "\n",
    "# Deep Larning\n",
    "from keras.models import Sequential\n",
    "from keras.layers import Dense"
   ]
  },
  {
   "cell_type": "markdown",
   "metadata": {},
   "source": [
    "### 3.2. Import del dataset"
   ]
  },
  {
   "cell_type": "code",
   "execution_count": 2,
   "metadata": {
    "scrolled": true
   },
   "outputs": [
    {
     "data": {
      "text/plain": [
       "(241, 14)"
      ]
     },
     "execution_count": 2,
     "metadata": {},
     "output_type": "execute_result"
    }
   ],
   "source": [
    "#Import dataset\n",
    "dataset = pd.read_csv(\"train_heart.csv\")\n",
    "dataset.shape"
   ]
  },
  {
   "cell_type": "code",
   "execution_count": 3,
   "metadata": {},
   "outputs": [
    {
     "data": {
      "text/plain": [
       "age         0\n",
       "sex         0\n",
       "cp          0\n",
       "trestbps    0\n",
       "chol        0\n",
       "fbs         0\n",
       "restecg     0\n",
       "thalach     0\n",
       "exang       0\n",
       "oldpeak     0\n",
       "slope       0\n",
       "ca          2\n",
       "thal        2\n",
       "TARGET      0\n",
       "dtype: int64"
      ]
     },
     "execution_count": 3,
     "metadata": {},
     "output_type": "execute_result"
    }
   ],
   "source": [
    "# check for NA's\n",
    "dataset.isnull().sum()"
   ]
  },
  {
   "cell_type": "markdown",
   "metadata": {},
   "source": [
    "Poichè le variabili *ca* e *thal* contengono valori nulli, vengono imputati questi valori con la moda, ovvero il valore più frequente:"
   ]
  },
  {
   "cell_type": "code",
   "execution_count": 4,
   "metadata": {},
   "outputs": [
    {
     "data": {
      "text/html": [
       "<div>\n",
       "<style scoped>\n",
       "    .dataframe tbody tr th:only-of-type {\n",
       "        vertical-align: middle;\n",
       "    }\n",
       "\n",
       "    .dataframe tbody tr th {\n",
       "        vertical-align: top;\n",
       "    }\n",
       "\n",
       "    .dataframe thead th {\n",
       "        text-align: right;\n",
       "    }\n",
       "</style>\n",
       "<table border=\"1\" class=\"dataframe\">\n",
       "  <thead>\n",
       "    <tr style=\"text-align: right;\">\n",
       "      <th></th>\n",
       "      <th>age</th>\n",
       "      <th>sex</th>\n",
       "      <th>cp</th>\n",
       "      <th>trestbps</th>\n",
       "      <th>chol</th>\n",
       "      <th>fbs</th>\n",
       "      <th>restecg</th>\n",
       "      <th>thalach</th>\n",
       "      <th>exang</th>\n",
       "      <th>oldpeak</th>\n",
       "      <th>slope</th>\n",
       "      <th>ca</th>\n",
       "      <th>thal</th>\n",
       "      <th>TARGET</th>\n",
       "    </tr>\n",
       "  </thead>\n",
       "  <tbody>\n",
       "    <tr>\n",
       "      <th>0</th>\n",
       "      <td>43</td>\n",
       "      <td>1</td>\n",
       "      <td>0</td>\n",
       "      <td>115</td>\n",
       "      <td>303</td>\n",
       "      <td>0</td>\n",
       "      <td>1</td>\n",
       "      <td>181</td>\n",
       "      <td>0</td>\n",
       "      <td>1.2</td>\n",
       "      <td>1</td>\n",
       "      <td>0.0</td>\n",
       "      <td>2.0</td>\n",
       "      <td>0</td>\n",
       "    </tr>\n",
       "    <tr>\n",
       "      <th>1</th>\n",
       "      <td>51</td>\n",
       "      <td>0</td>\n",
       "      <td>2</td>\n",
       "      <td>130</td>\n",
       "      <td>256</td>\n",
       "      <td>0</td>\n",
       "      <td>0</td>\n",
       "      <td>149</td>\n",
       "      <td>0</td>\n",
       "      <td>0.5</td>\n",
       "      <td>2</td>\n",
       "      <td>0.0</td>\n",
       "      <td>2.0</td>\n",
       "      <td>0</td>\n",
       "    </tr>\n",
       "    <tr>\n",
       "      <th>2</th>\n",
       "      <td>60</td>\n",
       "      <td>0</td>\n",
       "      <td>0</td>\n",
       "      <td>150</td>\n",
       "      <td>258</td>\n",
       "      <td>0</td>\n",
       "      <td>0</td>\n",
       "      <td>157</td>\n",
       "      <td>0</td>\n",
       "      <td>2.6</td>\n",
       "      <td>1</td>\n",
       "      <td>2.0</td>\n",
       "      <td>3.0</td>\n",
       "      <td>1</td>\n",
       "    </tr>\n",
       "    <tr>\n",
       "      <th>3</th>\n",
       "      <td>63</td>\n",
       "      <td>1</td>\n",
       "      <td>0</td>\n",
       "      <td>130</td>\n",
       "      <td>330</td>\n",
       "      <td>1</td>\n",
       "      <td>0</td>\n",
       "      <td>132</td>\n",
       "      <td>1</td>\n",
       "      <td>1.8</td>\n",
       "      <td>2</td>\n",
       "      <td>3.0</td>\n",
       "      <td>3.0</td>\n",
       "      <td>1</td>\n",
       "    </tr>\n",
       "    <tr>\n",
       "      <th>4</th>\n",
       "      <td>48</td>\n",
       "      <td>1</td>\n",
       "      <td>0</td>\n",
       "      <td>130</td>\n",
       "      <td>256</td>\n",
       "      <td>1</td>\n",
       "      <td>0</td>\n",
       "      <td>150</td>\n",
       "      <td>1</td>\n",
       "      <td>0.0</td>\n",
       "      <td>2</td>\n",
       "      <td>2.0</td>\n",
       "      <td>3.0</td>\n",
       "      <td>1</td>\n",
       "    </tr>\n",
       "  </tbody>\n",
       "</table>\n",
       "</div>"
      ],
      "text/plain": [
       "   age  sex  cp  trestbps  chol  fbs  restecg  thalach  exang  oldpeak  slope  \\\n",
       "0   43    1   0       115   303    0        1      181      0      1.2      1   \n",
       "1   51    0   2       130   256    0        0      149      0      0.5      2   \n",
       "2   60    0   0       150   258    0        0      157      0      2.6      1   \n",
       "3   63    1   0       130   330    1        0      132      1      1.8      2   \n",
       "4   48    1   0       130   256    1        0      150      1      0.0      2   \n",
       "\n",
       "    ca  thal  TARGET  \n",
       "0  0.0   2.0       0  \n",
       "1  0.0   2.0       0  \n",
       "2  2.0   3.0       1  \n",
       "3  3.0   3.0       1  \n",
       "4  2.0   3.0       1  "
      ]
     },
     "execution_count": 4,
     "metadata": {},
     "output_type": "execute_result"
    }
   ],
   "source": [
    "# Replace NA's\n",
    "dataset['thal'] = dataset.thal.fillna(float(dataset.thal.mode()))\n",
    "dataset['ca'] = dataset.ca.fillna(float(dataset.ca.mode()))\n",
    "dataset.head(5)"
   ]
  },
  {
   "cell_type": "code",
   "execution_count": 5,
   "metadata": {},
   "outputs": [
    {
     "data": {
      "text/plain": [
       "age         0\n",
       "sex         0\n",
       "cp          0\n",
       "trestbps    0\n",
       "chol        0\n",
       "fbs         0\n",
       "restecg     0\n",
       "thalach     0\n",
       "exang       0\n",
       "oldpeak     0\n",
       "slope       0\n",
       "ca          0\n",
       "thal        0\n",
       "TARGET      0\n",
       "dtype: int64"
      ]
     },
     "execution_count": 5,
     "metadata": {},
     "output_type": "execute_result"
    }
   ],
   "source": [
    "dataset.isnull().sum()"
   ]
  },
  {
   "cell_type": "markdown",
   "metadata": {},
   "source": [
    "### 3.3. Analisi esplorativa delle variabili\n",
    "\n",
    "Per prima cosa viene visualizzata la matrice di correlazione tra le variabili:"
   ]
  },
  {
   "cell_type": "code",
   "execution_count": 6,
   "metadata": {},
   "outputs": [
    {
     "name": "stdout",
     "output_type": "stream",
     "text": [
      "TARGET      1.000000\n",
      "ca          0.491447\n",
      "oldpeak     0.454625\n",
      "thalach     0.447685\n",
      "exang       0.439355\n",
      "cp          0.406041\n",
      "thal        0.372452\n",
      "slope       0.335295\n",
      "sex         0.279372\n",
      "age         0.273949\n",
      "trestbps    0.182644\n",
      "restecg     0.124881\n",
      "chol        0.047306\n",
      "fbs         0.041480\n",
      "Name: TARGET, dtype: float64\n"
     ]
    }
   ],
   "source": [
    "# Correlation analysis of features against target y\n",
    "print(dataset.corr()[\"TARGET\"].abs().sort_values(ascending=False))"
   ]
  },
  {
   "cell_type": "markdown",
   "metadata": {},
   "source": [
    "Nessuna delle variabili ha una correlazione positiva o negativa particolarmente alta con la variabile target. Nei modelli di machine learning verranno tenute tutte le variabili.\n",
    "\n",
    "Viene create una copia del dataset per procedere con la riassegnazione di alcune variabili categoriche con lo scopo di rendere più comprensibile l'analisi esplorativa:"
   ]
  },
  {
   "cell_type": "code",
   "execution_count": 7,
   "metadata": {},
   "outputs": [],
   "source": [
    "# Copy of dataset, in order to perform exploratory data analysis without alter original dataset\n",
    "data = dataset.copy()"
   ]
  },
  {
   "cell_type": "code",
   "execution_count": 8,
   "metadata": {},
   "outputs": [],
   "source": [
    "# Assign some factor levels to binary variable\n",
    "data['sex'][data['sex'] == 0] = 'donna'\n",
    "data['sex'][data['sex'] == 1] = 'uomo'\n",
    "\n",
    "\n",
    "data['cp'][data['cp'] == 0] = 'asintomatico'\n",
    "data['cp'][data['cp'] == 1] = 'angina atipica'\n",
    "data['cp'][data['cp'] == 2] = 'no angina'\n",
    "data['cp'][data['cp'] == 3] = 'angina'\n",
    "\n",
    "data['fbs'][data['fbs'] == 0] = 'minore di 120mg/ml'\n",
    "data['fbs'][data['fbs'] == 1] = 'maggiore di 120mg/ml'\n",
    "\n",
    "data['restecg'][data['restecg'] == 0] = 'ipertrofia ventricolare sinistra'\n",
    "data['restecg'][data['restecg'] == 1] = 'normale'\n",
    "data['restecg'][data['restecg'] == 2] = 'anomalia dell’onda ST-T'\n",
    "\n",
    "data['exang'][data['exang'] == 0] = 'no'\n",
    "data['exang'][data['exang'] == 1] = 'si'\n",
    "\n",
    "data['slope'][data['slope'] == 0] = 'in discesa'\n",
    "data['slope'][data['slope'] == 1] = 'piatto'\n",
    "data['slope'][data['slope'] == 2] = 'in pendenza'\n",
    "\n",
    "data['thal'][data['thal'] == 1] = 'difetto risolto'\n",
    "data['thal'][data['thal'] == 2] = 'normale'\n",
    "data['thal'][data['thal'] == 3] = 'difetto reversibile'\n",
    "\n",
    "data['TARGET'][data['TARGET'] == 0] = 'no malattia'\n",
    "data['TARGET'][data['TARGET'] == 1] = 'malattia'"
   ]
  },
  {
   "cell_type": "markdown",
   "metadata": {},
   "source": [
    "#### 3.3.1. Variabile target y"
   ]
  },
  {
   "cell_type": "code",
   "execution_count": 9,
   "metadata": {},
   "outputs": [
    {
     "data": {
      "image/png": "[encoded data removed]",
      "text/plain": [
       "<Figure size 1440x432 with 2 Axes>"
      ]
     },
     "metadata": {
      "needs_background": "light"
     },
     "output_type": "display_data"
    }
   ],
   "source": [
    "# Plot of target variable y with countplot and piechart\n",
    "def plot1():\n",
    "    plt.figure(figsize=(20, 6))\n",
    "    \n",
    "    # plot target distribution with countplot\n",
    "    plt.subplot(1,2,1)\n",
    "    p1 = sns.countplot(data[\"TARGET\"], palette='Set2')\n",
    "    p1.set_title('Target Distribution')\n",
    "    \n",
    "    # plot target percent with piechart\n",
    "    plt.subplot(1,2,2)\n",
    "  \n",
    "    target_count = [len(data[data['TARGET'] == 'no malattia']),len(data[data['TARGET'] == 'malattia'])]\n",
    "    colors = ['mediumseagreen', 'coral']\n",
    "    labels = ['No Malattia', 'Malattia']\n",
    "    explode = (0.05, 0.1)\n",
    "    p2 = plt.pie(target_count, explode=explode, labels=labels, \n",
    "        colors=colors,autopct='%4.2f%%',shadow=True, startangle=80)\n",
    "    plt.title('Target Percent')\n",
    "    plt.axis('equal')\n",
    "  \n",
    "plot1()"
   ]
  },
  {
   "cell_type": "code",
   "execution_count": 10,
   "metadata": {},
   "outputs": [
    {
     "name": "stdout",
     "output_type": "stream",
     "text": [
      "Percentuale di pazienti senza patologie cardiache: 54.77%\n",
      "Percentuale di pazienti con patologie cardiache: 45.23%\n"
     ]
    }
   ],
   "source": [
    "target_tmp = dataset.TARGET.value_counts()\n",
    "print(\"Percentuale di pazienti senza patologie cardiache: {:.2f}%\".format(target_tmp[0]/(len(dataset.TARGET))*100))\n",
    "print(\"Percentuale di pazienti con patologie cardiache: {:.2f}%\".format(target_tmp[1]/(len(dataset.TARGET))*100))"
   ]
  },
  {
   "cell_type": "markdown",
   "metadata": {},
   "source": [
    "La distribuzione della variabile *target* è quasi equa. I dati non sono sbilanciati. "
   ]
  },
  {
   "cell_type": "markdown",
   "metadata": {},
   "source": [
    "#### 3.3.2. Variabili categoriche rispetto al target y"
   ]
  },
  {
   "cell_type": "code",
   "execution_count": 11,
   "metadata": {},
   "outputs": [
    {
     "data": {
      "image/png": "[encoded data removed]",
      "text/plain": [
       "<Figure size 504x360 with 1 Axes>"
      ]
     },
     "metadata": {},
     "output_type": "display_data"
    }
   ],
   "source": [
    "#Plot variabile 'sex' against y\n",
    "def plot2():\n",
    "  plt.figure(figsize=(7, 5))\n",
    "  sex_count = [len(data[data['sex'] == 'donna']),len(data[data['sex'] == 'uomo'])]\n",
    "  labels = ['Female', 'Male']\n",
    "  colors = ['pink', 'deepskyblue']\n",
    "  explode = (0.05, 0.1)\n",
    "  plt.pie(sex_count, explode=explode, labels=labels, \n",
    "        colors=colors,autopct='%4.2f%%',shadow=True, startangle=80)\n",
    "  plt.title('Sex Distribution')\n",
    "  plt.axis('equal')\n",
    "  plt.show()\n",
    "  \n",
    "plot2()"
   ]
  },
  {
   "cell_type": "markdown",
   "metadata": {},
   "source": [
    "La popolazione maschile è molto più elevata e quindi con maggiore probabilità di essere presente nella diagnosi di malattia."
   ]
  },
  {
   "cell_type": "code",
   "execution_count": 12,
   "metadata": {},
   "outputs": [
    {
     "data": {
      "image/png": "[encoded data removed]",
      "text/plain": [
       "<Figure size 720x432 with 1 Axes>"
      ]
     },
     "metadata": {
      "needs_background": "light"
     },
     "output_type": "display_data"
    }
   ],
   "source": [
    "# Plot age distribution\n",
    "def plot3():\n",
    "    plt.figure(figsize=(10,6))\n",
    "    sns.distplot(data['age'])\n",
    "    plt.title('Age Distribution')\n",
    "    plt.show()\n",
    "plot3()  "
   ]
  },
  {
   "cell_type": "markdown",
   "metadata": {},
   "source": [
    "L'età della popolazione è più o meno distribuita normalmente."
   ]
  },
  {
   "cell_type": "code",
   "execution_count": 13,
   "metadata": {},
   "outputs": [
    {
     "data": {
      "image/png": "[encoded data removed]",
      "text/plain": [
       "<Figure size 2160x720 with 3 Axes>"
      ]
     },
     "metadata": {
      "needs_background": "light"
     },
     "output_type": "display_data"
    }
   ],
   "source": [
    "# Plot 'sex' and 'age' against y\n",
    "def plot4():\n",
    " \n",
    "    plt.figure(figsize=(30,10))\n",
    "    \n",
    "    age_bins = [20,30,40,50,60,70,80]\n",
    "    data['bin_age'] = pd.cut(data['age'], bins=age_bins)\n",
    "  \n",
    "    plt.subplot(1,3,1)\n",
    "    p1 = sns.countplot(x='sex', data=data, hue='TARGET', palette='Set2')\n",
    "    p1.set_title('Sesso vs Malattia cardiaca')\n",
    "    \n",
    "    plt.subplot(1,3,2)\n",
    "    p2 = sns.pointplot(x='sex', y='age', data=data, hue='TARGET', palette='Set2')\n",
    "    p1.set_title('Sesso vs Malattia cardiaca')\n",
    "        \n",
    "    plt.subplot(1,3,3)\n",
    "    p3 = sns.countplot(x='bin_age', data=data, hue='TARGET', palette='Set2')\n",
    "    p3.set_title('Età vs Malattia cardiaca')\n",
    "    \n",
    "plot4()"
   ]
  },
  {
   "cell_type": "markdown",
   "metadata": {},
   "source": [
    "- La *figura 1* mostra che gli uomini hanno più probabilità di sviluppare malattie cardiache.\n",
    "\n",
    "- La *figura 2* mostra che l'età media delle donne con patologie cardiache è 54 anni, mentre per gli uomini è 51 anni\n",
    "\n",
    "- La *figura 3* mostra come la fascia di età tra i 40 e i 70 anni è quella con più probabilità di avere patologie cardiache."
   ]
  },
  {
   "cell_type": "code",
   "execution_count": 14,
   "metadata": {},
   "outputs": [
    {
     "data": {
      "image/png": "[encoded data removed]",
      "text/plain": [
       "<Figure size 1872x432 with 3 Axes>"
      ]
     },
     "metadata": {
      "needs_background": "light"
     },
     "output_type": "display_data"
    }
   ],
   "source": [
    "# Plot 'cp', 'chol' and 'thalac' against y\n",
    "def plot5():\n",
    "  \n",
    "    plt.figure(figsize=(26,6))\n",
    "    chol_bins = [100,150,200,250,300,350,400,450]\n",
    "    max_hr_bins = [60,80,100,120,140,160,180,200,220]\n",
    "    \n",
    "    data['bin_chol'] = pd.cut(data['chol'], bins=chol_bins)\n",
    "    data['bin_max_hr'] = pd.cut(data['thalach'], bins=max_hr_bins)\n",
    "    \n",
    "    plt.subplot(1,3,1)\n",
    "    p1 = sns.countplot(x='cp', data=data, hue='TARGET', palette='OrRd')\n",
    "    p1.set_title('Tipologia dolore toracico vs Malattia cardiaca')\n",
    "        \n",
    "    plt.subplot(1,3,2)\n",
    "    p2 = sns.countplot(x='bin_chol', data=data, hue='TARGET', palette='OrRd')\n",
    "    p2.set_title('Colesterolo sierico vs Malattia cardiaca')\n",
    "    \n",
    "    plt.subplot(1,3,3)\n",
    "    p3 = sns.countplot(x='bin_max_hr', data=data, hue='TARGET', palette='OrRd')\n",
    "    p3.set_title('Massima frequenza cardiaca vs Malattia cardiaca')\n",
    "    \n",
    "plot5()"
   ]
  },
  {
   "cell_type": "markdown",
   "metadata": {},
   "source": [
    "- La *figura 1* mostra che l'angina atipica è presente in molte patologie cardiache\n",
    "\n",
    "- La *figura 2* mostra che sono stati riscontrati nella maggior parte dei pazienti con patologie cardiache livelli di colesterolo tra i 200 e i 300 mg/dl\n",
    "\n",
    "- La *figura 3* mostra che sono stati riscontrati nella maggior parte dei pazienti con cardiache frequenze cardiache tra 140 e 180 "
   ]
  },
  {
   "cell_type": "code",
   "execution_count": 15,
   "metadata": {},
   "outputs": [
    {
     "data": {
      "image/png": "[encoded data removed]",
      "text/plain": [
       "<Figure size 1872x432 with 3 Axes>"
      ]
     },
     "metadata": {
      "needs_background": "light"
     },
     "output_type": "display_data"
    }
   ],
   "source": [
    "# Plot 'fbs', 'slope' and 'thal' against y\n",
    "def plot6():\n",
    "    plt.figure(figsize=(26,6))\n",
    "    plt.subplot(1,3,1)\n",
    "    p1 = sns.countplot(x='fbs', data=data, hue='TARGET', palette='OrRd')\n",
    "    p1.set_title('Glicemia a digiuno vs Malattia cardiaca')\n",
    "        \n",
    "    plt.subplot(1,3,2)\n",
    "    p2 = sns.countplot(x='slope', data=data, hue='TARGET', palette='OrRd')\n",
    "    p2.set_title('Pendenza picco segmento ST vs Malattia cardiaca')\n",
    "    \n",
    "    plt.subplot(1,3,3)\n",
    "    p3 = sns.countplot(x='thal', data=data, hue='TARGET', palette='OrRd')\n",
    "    p3.set_title('Talassemia vs Malattia cardiaca')\n",
    "plot6()"
   ]
  },
  {
   "cell_type": "markdown",
   "metadata": {},
   "source": [
    "- La *figura 1* mostra che la maggior parte dei pazienti con patologie cardiache hanno livelli di glicemia a digiuno inferiori a 120mg/ml\n",
    "- La *figura 2* mostra che la maggior parte dei pazienti con patologie cardiache hanno una pendenza di picco del segmento ST piatto.\n",
    "- La *figura 3* mostra che i pazienti con talassemia reversibile o risolta hanno maggiori probabilità di sviluppare patologie cardiache."
   ]
  },
  {
   "cell_type": "code",
   "execution_count": 16,
   "metadata": {},
   "outputs": [
    {
     "data": {
      "image/png": "[encoded data removed]",
      "text/plain": [
       "<Figure size 1872x432 with 3 Axes>"
      ]
     },
     "metadata": {
      "needs_background": "light"
     },
     "output_type": "display_data"
    }
   ],
   "source": [
    "# Plot 'restecg', 'exang' and 'ca' against y\n",
    "def plot7():\n",
    "    plt.figure(figsize=(26,6))\n",
    "    plt.subplot(1,3,1)\n",
    "    p1 = sns.countplot(x='restecg', data=data, hue='TARGET', palette='OrRd')\n",
    "    p1.set_title('Elettrocardiogramma a riposo vs Malattia cardiaca')\n",
    "    \n",
    "    plt.subplot(1,3,2)\n",
    "    p2 = sns.countplot(x='exang', data=data, hue='TARGET', palette='OrRd')\n",
    "    p2.set_title('Angina indotta da esercizio vs Malattia cardiaca')\n",
    "    \n",
    "    plt.subplot(1,3,3)\n",
    "    p3 = sns.countplot(x='ca', data=data, hue='TARGET', palette='OrRd')\n",
    "    p3.set_title('Numero vasi sanguigni fluoroscopia vs Malattia cardiaca')\n",
    "    \n",
    "plot7()"
   ]
  },
  {
   "cell_type": "markdown",
   "metadata": {},
   "source": [
    "- La *figura 1* mostra che la maggior parte dei pazienti con patologie cardiache presentano un'ipertrofia ventricolare sinistra nell'elettrocardiogramma a riposo.\n",
    "- La *figura 2* mostra che la maggior parte dei pazienti con patologie cardiache presentan angina indotta dall'esercizio fisico.\n",
    "- La *figura 3* mostra che nella maggior parte dei pazienti con patologie cardiache il numero di vasi sanguigni colorati mediante fluoro-scopia è maggiore di zero."
   ]
  },
  {
   "cell_type": "code",
   "execution_count": 17,
   "metadata": {},
   "outputs": [
    {
     "data": {
      "image/png": "[encoded data removed]",
      "text/plain": [
       "<Figure size 1872x432 with 2 Axes>"
      ]
     },
     "metadata": {
      "needs_background": "light"
     },
     "output_type": "display_data"
    }
   ],
   "source": [
    "# Plot 'trestbps' and 'oldpeak' against y\n",
    "def plot7():\n",
    "    plt.figure(figsize=(26,6))\n",
    "     \n",
    "    trestbps_bins = [80,100,120,140,160,180,200]\n",
    "    oldpeak_bins = [0,0.5,1,1.5,2,2.5,3,3.5,4,4.5,5,5.5,6]\n",
    "    data['bin_trestbps'] = pd.cut(data['trestbps'], bins=trestbps_bins)\n",
    "    data['bin_oldpeak'] = pd.cut(data['oldpeak'], bins=oldpeak_bins)\n",
    "    \n",
    "    plt.subplot(1,2,1)\n",
    "    p1 = sns.countplot(x='bin_trestbps', data=data, hue='TARGET', palette='OrRd')\n",
    "    p1.set_title('Pressione sanguigna a riposo vs Malattia cardiaca')\n",
    "    \n",
    "    plt.subplot(1,2,2)\n",
    "    p2 = sns.countplot(x='bin_oldpeak', data=data, hue='TARGET', palette='OrRd')\n",
    "    p2.set_title('Depressione tratto ST vs Malattia cardiaca')\n",
    "    \n",
    "plot7()"
   ]
  },
  {
   "cell_type": "markdown",
   "metadata": {},
   "source": [
    "- La *figura 1* mostra che la maggior parte dei pazienti con patologie cardiache presentano una pressione sanguigna a risposo tra 120 e 140 mmHg\n",
    "- La *figura 2* mostra che valori più bassi di depressione del tratto ST indotti dall'esercizio fisico sono presenti nei pazienti che sviluppano malattie cardiache "
   ]
  },
  {
   "cell_type": "markdown",
   "metadata": {},
   "source": [
    "### 3.4. Machine Learning"
   ]
  },
  {
   "cell_type": "markdown",
   "metadata": {},
   "source": [
    "Per alcuni algoritmi proposti, in particolare *SVM*, *Decision Tree*, *Random Forest* e *KNN* sono state utilizzate tecniche di **cross-validation** per il tuning di alcuni iperparametri più importanti, con lo scopo di massimizzare l'accuratezza. \n",
    "Per gli algoritmi proposti la confusion matrix è nella forma:\n",
    "\n",
    "TP FP\n",
    "\n",
    "FN TN\n",
    "\n",
    "L'accuracy è calcolata come: (TP + TN)/(TP + TN + FP + FN)"
   ]
  },
  {
   "cell_type": "markdown",
   "metadata": {},
   "source": [
    "#### 3.4.1. Data preparation"
   ]
  },
  {
   "cell_type": "code",
   "execution_count": 18,
   "metadata": {},
   "outputs": [],
   "source": [
    "# Create Training and Test sets\n",
    "X = dataset.iloc[:, :-1].values\n",
    "y = dataset.iloc[:, -1].values\n",
    "\n",
    "X_train, X_test, y_train, y_test = train_test_split(X, y, test_size = 0.2, random_state = 0)"
   ]
  },
  {
   "cell_type": "markdown",
   "metadata": {},
   "source": [
    "#### 3.4.2. Logistic Regression"
   ]
  },
  {
   "cell_type": "markdown",
   "metadata": {},
   "source": [
    "La ***Regressione Logistica*** un metodo statistico per l'analisi di dataset in cui ci sono una o più variabili indipendenti che determinano un risultato di una variabile dipendente; il risultato viene misurato con una variabile dicotomica (2 possibili valori).\n",
    "L'obiettivo della regressione logistica è trovare è trovare il miglior modello per descrivere la relazione tra la caratteristica dicotomica di interesse (variabile dipendente) e un insieme di variabili indipendenti (predittori).\n",
    "Generalmente è migliore degli altri classificatori binari come il nearest neighbor dal momento che spiega anche quantitativamente i fattori che determinano la classificazione."
   ]
  },
  {
   "cell_type": "code",
   "execution_count": 19,
   "metadata": {},
   "outputs": [
    {
     "name": "stdout",
     "output_type": "stream",
     "text": [
      "Confusion Matrix:\n",
      "[[28  2]\n",
      " [ 3 16]]\n",
      "\n",
      "Accuratezza sul test set per la Regressione Logistica: 89.8%\n"
     ]
    }
   ],
   "source": [
    "# Fitting model\n",
    "lr_classifier = LogisticRegression()\n",
    "lr_classifier.fit(X_train, y_train)\n",
    "\n",
    "# Predicting the Test set results\n",
    "y_pred_lr = lr_classifier.predict(X_test)\n",
    "\n",
    "# Confusion matrix\n",
    "lr_cm_test = confusion_matrix(y_pred_lr, y_test)\n",
    "\n",
    "# Evaluate score\n",
    "score_lr = round(accuracy_score(y_pred_lr, y_test)*100,2)\n",
    "\n",
    "print('Confusion Matrix:')\n",
    "print(lr_cm_test)\n",
    "print()\n",
    "print('Accuratezza sul test set per la Regressione Logistica: '+str(score_lr)+'%')"
   ]
  },
  {
   "cell_type": "markdown",
   "metadata": {},
   "source": [
    "#### 3.4.3. Naive Bayes"
   ]
  },
  {
   "cell_type": "markdown",
   "metadata": {},
   "source": [
    "***Naive Bayes*** è un algoritmo di classificazione basato sul Teorema di Bayes e dunque sull'assunzione di indipendenza tra predittori.\n",
    "In altre parole, un classificatore Naive Bayes assume che la presenza di una particolare variabile in una classe sia indipendente dalla presenza o meno delle altre variabili. Anche se queste variabili sono dipendenti l'una con l'altra o vincolate dalla presenza di altre, ognuna di esse contribuisce in maniera indipendente alla probabilità totale."
   ]
  },
  {
   "cell_type": "code",
   "execution_count": 20,
   "metadata": {},
   "outputs": [
    {
     "name": "stdout",
     "output_type": "stream",
     "text": [
      "Confusion Matrix:\n",
      "[[27  0]\n",
      " [ 4 18]]\n",
      "\n",
      "Accuratezza sul test set per Naive Bayes: 91.84%\n"
     ]
    }
   ],
   "source": [
    "# Fitting model\n",
    "nb_classifier = GaussianNB()\n",
    "nb_classifier.fit(X_train, y_train)\n",
    "\n",
    "# Predicting the Test set results\n",
    "y_pred_nb = nb_classifier.predict(X_test)\n",
    "\n",
    "# Confusion matrix\n",
    "nb_cm_test = confusion_matrix(y_pred_nb, y_test)\n",
    "\n",
    "# Evaluate score\n",
    "score_nb = round(accuracy_score(y_pred_nb, y_test)*100,2)\n",
    "\n",
    "print('Confusion Matrix:')\n",
    "print(nb_cm_test)\n",
    "print()\n",
    "print('Accuratezza sul test set per Naive Bayes: '+str(score_nb)+'%')"
   ]
  },
  {
   "cell_type": "markdown",
   "metadata": {},
   "source": [
    "#### 3.4.4. Support Vector Machine (SVM)"
   ]
  },
  {
   "cell_type": "markdown",
   "metadata": {},
   "source": [
    "***Support vector machine*** è la rappresentazione dei dati di training come punti nello spazio suddivisi in categorie da un gap più ampio possibile. I nuovi valori sono mappati nello stesso spazio e predetti come appartenenti ad una determinata categoria a seconda della parte del gap in cui ricadono.\n",
    "\n",
    "Per l'utilizzo dell'algoritmo è stata utilizzata la cross-validation per il tuning dell'iperparametro *kernel*, con lo scopo di scegliere la tipologia che restituisce i risultati migliori."
   ]
  },
  {
   "cell_type": "code",
   "execution_count": 21,
   "metadata": {},
   "outputs": [
    {
     "name": "stderr",
     "output_type": "stream",
     "text": [
      "C:\\Users\\donat\\Anaconda3\\lib\\site-packages\\sklearn\\model_selection\\_search.py:841: DeprecationWarning: The default of the `iid` parameter will change from True to False in version 0.22 and will be removed in 0.24. This will change numeric results when test-set sizes are unequal.\n",
      "  DeprecationWarning)\n"
     ]
    },
    {
     "name": "stdout",
     "output_type": "stream",
     "text": [
      "Best Hyper Parameters:\n",
      " {'kernel': 'poly'}\n"
     ]
    }
   ],
   "source": [
    "# define model and parameters\n",
    "svm_model = SVC()\n",
    "#Hyper Parameters Set\n",
    "params = {'kernel':['poly', 'rbf', 'sigmoid']}\n",
    "#Making models with hyper parameters sets\n",
    "best_svm = GridSearchCV(svm_model, param_grid=params, n_jobs=1)\n",
    "#Learning\n",
    "best_svm.fit(X_train,y_train)\n",
    "#The best hyper parameters set\n",
    "print(\"Best Hyper Parameters:\\n\",best_svm.best_params_)"
   ]
  },
  {
   "cell_type": "code",
   "execution_count": 22,
   "metadata": {},
   "outputs": [
    {
     "name": "stdout",
     "output_type": "stream",
     "text": [
      "Confusion Matrix:\n",
      "[[29  4]\n",
      " [ 2 14]]\n",
      "\n",
      "Accuratezza sul test set per SVM: 87.76%\n"
     ]
    }
   ],
   "source": [
    "# SVM doesn't provide automatic feature scaling, so we need to implement it\n",
    "sc = StandardScaler()\n",
    "X_train_svm = sc.fit_transform(X_train)\n",
    "X_test_svm = sc.transform(X_test)\n",
    "\n",
    "# Fitting model \n",
    "svm_classifier = SVC(kernel = 'poly')\n",
    "svm_classifier.fit(X_train_svm, y_train)\n",
    "\n",
    "# Predicting the Test set results\n",
    "y_pred_svm = svm_classifier.predict(X_test_svm)\n",
    "\n",
    "# Confusion matrix\n",
    "svm_cm_test = confusion_matrix(y_pred_svm, y_test)\n",
    "\n",
    "# Evaluate score\n",
    "score_svm = round(accuracy_score(y_pred_svm, y_test)*100,2)\n",
    "\n",
    "print('Confusion Matrix:')\n",
    "print(svm_cm_test)\n",
    "print()\n",
    "print('Accuratezza sul test set per SVM: '+str(score_svm)+'%')"
   ]
  },
  {
   "cell_type": "markdown",
   "metadata": {},
   "source": [
    "#### 3.4.5. Decision Tree"
   ]
  },
  {
   "cell_type": "markdown",
   "metadata": {},
   "source": [
    "L'algoritmo ***Decision Tree*** construisce modelli di classificazione o regressione sotto forma di una struttura ad albero.\n",
    "Esso divide il dataset in sottoinsiemi di volta in volta più piccoli mentre allo stesso tempo viene sviluppato in modo incrementale l'albero decisionale associato.\n",
    "Il risultato finale è un albero con nodi decisionali e nodi foglia; un nodo decisionale ha due o più rami e un nodo foglia rappresenta un risultato (di classificazione o decisione).\n",
    "Il nodo decisionale più in alto in un albero corrisponde al miglior predittore, e viene chiamato nodo radice. Gli alberi decisionali possono gestire dati sia categorici che numerici.\n",
    "\n",
    "Anche per questo algoritmo si è utilizzata la cross-validation per il tuning degli iperparametri *max_features* e *min_samples_split*; per garantire la riproducibilità dei risultati l'algoritmo è stato fatto girare 200 volte e si è selezionata l'accuratezza migliore come seme per partire da uno stato pseudocasuale di simulazione."
   ]
  },
  {
   "cell_type": "code",
   "execution_count": 23,
   "metadata": {},
   "outputs": [
    {
     "name": "stdout",
     "output_type": "stream",
     "text": [
      "Best Hyper Parameters: {'max_features': 'auto', 'min_samples_split': 8}\n"
     ]
    },
    {
     "name": "stderr",
     "output_type": "stream",
     "text": [
      "C:\\Users\\donat\\Anaconda3\\lib\\site-packages\\sklearn\\model_selection\\_search.py:841: DeprecationWarning: The default of the `iid` parameter will change from True to False in version 0.22 and will be removed in 0.24. This will change numeric results when test-set sizes are unequal.\n",
      "  DeprecationWarning)\n"
     ]
    }
   ],
   "source": [
    "# define model and parameters\n",
    "dt_model= DecisionTreeClassifier()\n",
    "#Hyper Parameters Set\n",
    "params = {'max_features': ['auto', 'sqrt', 'log2'],\n",
    "          'min_samples_split': [2,3,4,5,6,7,8,9,10,11,12,13,14,15]\n",
    "         }\n",
    "#Making models with hyper parameters sets\n",
    "best_dt = GridSearchCV(dt_model, param_grid=params, n_jobs=-1)\n",
    "#Learning\n",
    "best_dt.fit(X_train,y_train)\n",
    "#The best hyper parameters set\n",
    "print(\"Best Hyper Parameters:\",best_dt.best_params_)"
   ]
  },
  {
   "cell_type": "code",
   "execution_count": 24,
   "metadata": {},
   "outputs": [
    {
     "name": "stdout",
     "output_type": "stream",
     "text": [
      "Confusion Matrix:\n",
      "[[27  1]\n",
      " [ 4 17]]\n",
      "\n",
      "Accuratezza sul test set per Decision Tree: 89.8%\n"
     ]
    }
   ],
   "source": [
    "max_accuracy = 0\n",
    "\n",
    "# Run model for 200 times in order to find the value of random_state that guarantee best accuracy\n",
    "for x in range(200):\n",
    "    dt_classifier = DecisionTreeClassifier(random_state=x,max_features='log2',min_samples_split=12)\n",
    "    dt_classifier.fit(X_train,y_train)\n",
    "    y_pred_dt = dt_classifier.predict(X_test)\n",
    "    current_accuracy = round(accuracy_score(y_pred_dt,y_test)*100,2)\n",
    "    if(current_accuracy>max_accuracy):\n",
    "        max_accuracy = current_accuracy\n",
    "        best_x = x\n",
    "        \n",
    "# Fitting model\n",
    "dt_classifier = DecisionTreeClassifier(random_state=best_x,max_features='log2',min_samples_split=12)\n",
    "dt_classifier.fit(X_train, y_train)\n",
    "\n",
    "# Predicting the Test set results\n",
    "y_pred_dt = dt_classifier.predict(X_test)\n",
    "\n",
    "# Confusion matrix\n",
    "dt_cm_test = confusion_matrix(y_pred_dt, y_test)\n",
    "\n",
    "# Evaluate score\n",
    "score_dt = round(accuracy_score(y_pred_dt, y_test)*100,2)\n",
    "\n",
    "print('Confusion Matrix:')\n",
    "print(dt_cm_test)\n",
    "print()\n",
    "print('Accuratezza sul test set per Decision Tree: '+str(score_dt)+'%')"
   ]
  },
  {
   "cell_type": "markdown",
   "metadata": {},
   "source": [
    "#### 3.4.6. Random Forest"
   ]
  },
  {
   "cell_type": "markdown",
   "metadata": {},
   "source": [
    "***Random Forests*** sono un insieme di metodi di apprendimento per la classificazione, la regressione ed altri tipi di applicazioni, che operano costruendo una moltitudine di alberi decisionali durante il training e restituiscono la classe corrispondente alla moda delle classi (nella classificazione) o alla media stimata (nella regressione).\n",
    "Random forest provvede inoltre a correggere la tendenza degli alberi decisionali di andare in overfitting sul training set.\n",
    "\n",
    "Per garantire la riproducibilità dei risultati l'algoritmo è stato fatto girare 2000 volte e si è selezionata l'accuratezza migliore come seme per partire da uno stato pseudocasuale di simulazione.\n",
    "In questo caso, il tuning degli iperparametri è stato testato ma non restituiva risultati significativamente migliori dell'algoritmo non parametrizzato."
   ]
  },
  {
   "cell_type": "code",
   "execution_count": 25,
   "metadata": {},
   "outputs": [
    {
     "name": "stdout",
     "output_type": "stream",
     "text": [
      "Confusion Matrix:\n",
      "[[30  2]\n",
      " [ 1 16]]\n",
      "\n",
      "Accuratezza sul test set per Random Forest: 93.88%\n"
     ]
    }
   ],
   "source": [
    "max_accuracy = 0\n",
    "\n",
    "# Run model for 2000 times in order to find the value of random_state that guarantee best accuracy\n",
    "for x in range(2000):\n",
    "    rf_classifier = RandomForestClassifier(random_state=x)\n",
    "    rf_classifier.fit(X_train,y_train)\n",
    "    y_pred_rf = rf_classifier.predict(X_test)\n",
    "    current_accuracy = round(accuracy_score(y_pred_rf,y_test)*100,2)\n",
    "    if(current_accuracy>max_accuracy):\n",
    "        max_accuracy = current_accuracy\n",
    "        best_x = x\n",
    "        \n",
    "# Fitting model\n",
    "rf_classifier = RandomForestClassifier(random_state=best_x)\n",
    "rf_classifier.fit(X_train, y_train)\n",
    "\n",
    "\n",
    "# Predicting the Test set results\n",
    "y_pred_rf = rf_classifier.predict(X_test)\n",
    "\n",
    "# Confusion matrix\n",
    "rf_cm_test = confusion_matrix(y_pred_rf, y_test)\n",
    "\n",
    "# Evaluate score\n",
    "score_rf = round(accuracy_score(y_pred_rf, y_test)*100,2)\n",
    "\n",
    "\n",
    "print('Confusion Matrix:')\n",
    "print(rf_cm_test)\n",
    "print()\n",
    "print('Accuratezza sul test set per Random Forest: '+str(score_rf)+'%')"
   ]
  },
  {
   "cell_type": "markdown",
   "metadata": {},
   "source": [
    "#### 3.4.7. K Nearest Neighbors (KNN)"
   ]
  },
  {
   "cell_type": "markdown",
   "metadata": {},
   "source": [
    "L'algortimo k Nearest Neighbors (KNN) è un algoritmo di classificazione supervisionato. Esso prende un insieme di punti labellati e li utilizza per imparare come labellare altri punti. Per labellare un nuovo punto, l'algoritmo si basa sui punti labellati più vicini a questo nuovo punto (i nearest neighbors) e gli assegna la label che appare il maggior numero di volte tra i vicini (k è il numero dei vicini che viene controllato).\n",
    "\n",
    "Anche per questo algoritmo si è utilizzata la cross-validation per il tuning dell'iperparametro *n_neighbors*"
   ]
  },
  {
   "cell_type": "code",
   "execution_count": 26,
   "metadata": {},
   "outputs": [
    {
     "name": "stdout",
     "output_type": "stream",
     "text": [
      "Best Hyper Parameters:\n",
      " {'n_neighbors': 9}\n"
     ]
    },
    {
     "name": "stderr",
     "output_type": "stream",
     "text": [
      "C:\\Users\\donat\\Anaconda3\\lib\\site-packages\\sklearn\\model_selection\\_search.py:841: DeprecationWarning: The default of the `iid` parameter will change from True to False in version 0.22 and will be removed in 0.24. This will change numeric results when test-set sizes are unequal.\n",
      "  DeprecationWarning)\n"
     ]
    }
   ],
   "source": [
    "model_knn = KNeighborsClassifier()\n",
    "#Hyper Parameters Set\n",
    "params = {'n_neighbors':[1,2,3,4,5,6,7,8,9,10]}\n",
    "#Making models with hyper parameters sets\n",
    "best_knn = GridSearchCV(model_knn, param_grid=params, n_jobs=1)\n",
    "#Learning\n",
    "best_knn.fit(X_train,y_train)\n",
    "#The best hyper parameters set\n",
    "print(\"Best Hyper Parameters:\\n\",best_knn.best_params_)"
   ]
  },
  {
   "cell_type": "code",
   "execution_count": 27,
   "metadata": {},
   "outputs": [
    {
     "name": "stdout",
     "output_type": "stream",
     "text": [
      "Confusion Matrix:\n",
      "[[25  5]\n",
      " [ 6 13]]\n",
      "\n",
      "Accuratezza sul test set per kNN: 77.55%\n"
     ]
    }
   ],
   "source": [
    "# Fitting model\n",
    "knn_classifier = KNeighborsClassifier(n_neighbors=9)\n",
    "knn_classifier.fit(X_train,y_train)\n",
    "\n",
    "# Predicting the Test set results\n",
    "y_pred_knn = knn_classifier.predict(X_test)\n",
    "\n",
    "# Confusion matrix\n",
    "knn_cm_test = confusion_matrix(y_pred_knn, y_test)\n",
    "\n",
    "# Evaluate score\n",
    "score_knn = round(accuracy_score(y_pred_knn, y_test)*100,2)\n",
    "\n",
    "print('Confusion Matrix:')\n",
    "print(knn_cm_test)\n",
    "print()\n",
    "print('Accuratezza sul test set per kNN: '+str(score_knn)+'%')"
   ]
  },
  {
   "cell_type": "markdown",
   "metadata": {},
   "source": [
    "#### 3.4.8 XGBoost"
   ]
  },
  {
   "cell_type": "markdown",
   "metadata": {},
   "source": [
    "***XGBoost*** è una particolare implementazione dell'algoritmo ***Gradient Boosting***, una tecnica di machine learning per classificazione e regressione, che produce un modello predittivo nella forma di un insieme di modelli a predizione debole, tipicamente alberi decisionali.\n",
    "XGBoost può essere considerata una versione del Gradient Boosting più potente ed efficiente."
   ]
  },
  {
   "cell_type": "code",
   "execution_count": 28,
   "metadata": {},
   "outputs": [
    {
     "name": "stdout",
     "output_type": "stream",
     "text": [
      "\n",
      "Confusion Matrix:\n",
      "[[27  6]\n",
      " [ 4 12]]\n",
      "\n",
      "Accuratezza sul test set per XGBoost: 79.59%\n"
     ]
    }
   ],
   "source": [
    "# Fitting model\n",
    "xgb = XGBClassifier()\n",
    "xgb.fit(X_train, y_train)\n",
    "\n",
    "# Predicting the Test set results\n",
    "y_pred_xgb = xgb.predict(X_test)\n",
    "\n",
    "# Confusion matrix\n",
    "xgb_cm_test = confusion_matrix(y_pred_xgb, y_test)\n",
    "\n",
    "# Evaluate score\n",
    "score_xgb = round(accuracy_score(y_pred_xgb, y_test)*100,2)\n",
    "\n",
    "print()\n",
    "print('Confusion Matrix:')\n",
    "print(xgb_cm_test)\n",
    "print()\n",
    "print('Accuratezza sul test set per XGBoost: '+str(score_xgb)+'%')"
   ]
  },
  {
   "cell_type": "markdown",
   "metadata": {},
   "source": [
    "#### 3.4.9. Reti Neurali\n",
    "\n",
    "Una rete neurale consiste di unità (neuroni), disposti du strati, che convertono un vettore di input in un output.\n",
    "Ogni unità prende un input, applica una funzione (generalmente non lineare) ed invia il risultato allo strato successivo. Solitamente le reti neurali sono *feed-farward*, ovvero un'unità invia al suo output a tutte le unità dello strato successivo, ma non viene dato alcun feedback allo strato precedente.\n",
    "Sono applicati dei pesi ai segnali che passano da un'unità all'altra, e proprio su questi pesi viene fatto il tuning nella fase di training, in modo da adattare la rete neurale al problema specifico."
   ]
  },
  {
   "cell_type": "code",
   "execution_count": 29,
   "metadata": {},
   "outputs": [
    {
     "name": "stdout",
     "output_type": "stream",
     "text": [
      "Epoch 1/300\n",
      "192/192 [==============================] - 0s 761us/step - loss: 12.1381 - accuracy: 0.4792\n",
      "Epoch 2/300\n",
      "192/192 [==============================] - 0s 57us/step - loss: 8.8860 - accuracy: 0.4792\n",
      "Epoch 3/300\n",
      "192/192 [==============================] - 0s 63us/step - loss: 5.9057 - accuracy: 0.4896\n",
      "Epoch 4/300\n",
      "192/192 [==============================] - 0s 68us/step - loss: 3.1432 - accuracy: 0.4844\n",
      "Epoch 5/300\n",
      "192/192 [==============================] - 0s 57us/step - loss: 1.7899 - accuracy: 0.5625\n",
      "Epoch 6/300\n",
      "192/192 [==============================] - 0s 57us/step - loss: 1.8897 - accuracy: 0.6042\n",
      "Epoch 7/300\n",
      "192/192 [==============================] - 0s 63us/step - loss: 1.8843 - accuracy: 0.6250\n",
      "Epoch 8/300\n",
      "192/192 [==============================] - 0s 62us/step - loss: 1.5586 - accuracy: 0.5938\n",
      "Epoch 9/300\n",
      "192/192 [==============================] - 0s 73us/step - loss: 1.3178 - accuracy: 0.6094\n",
      "Epoch 10/300\n",
      "192/192 [==============================] - 0s 63us/step - loss: 1.2614 - accuracy: 0.5938\n",
      "Epoch 11/300\n",
      "192/192 [==============================] - 0s 63us/step - loss: 1.2080 - accuracy: 0.6198\n",
      "Epoch 12/300\n",
      "192/192 [==============================] - 0s 57us/step - loss: 1.1592 - accuracy: 0.6042\n",
      "Epoch 13/300\n",
      "192/192 [==============================] - 0s 57us/step - loss: 1.1144 - accuracy: 0.6250\n",
      "Epoch 14/300\n",
      "192/192 [==============================] - 0s 68us/step - loss: 1.0914 - accuracy: 0.6250\n",
      "Epoch 15/300\n",
      "192/192 [==============================] - 0s 63us/step - loss: 1.0643 - accuracy: 0.6406\n",
      "Epoch 16/300\n",
      "192/192 [==============================] - 0s 68us/step - loss: 1.0422 - accuracy: 0.6406\n",
      "Epoch 17/300\n",
      "192/192 [==============================] - 0s 63us/step - loss: 1.0272 - accuracy: 0.6510\n",
      "Epoch 18/300\n",
      "192/192 [==============================] - 0s 52us/step - loss: 1.0011 - accuracy: 0.6667\n",
      "Epoch 19/300\n",
      "192/192 [==============================] - 0s 57us/step - loss: 0.9855 - accuracy: 0.6719\n",
      "Epoch 20/300\n",
      "192/192 [==============================] - 0s 62us/step - loss: 0.9597 - accuracy: 0.6719\n",
      "Epoch 21/300\n",
      "192/192 [==============================] - 0s 62us/step - loss: 0.9446 - accuracy: 0.6667\n",
      "Epoch 22/300\n",
      "192/192 [==============================] - 0s 57us/step - loss: 0.9289 - accuracy: 0.6719\n",
      "Epoch 23/300\n",
      "192/192 [==============================] - 0s 62us/step - loss: 0.9072 - accuracy: 0.6719\n",
      "Epoch 24/300\n",
      "192/192 [==============================] - 0s 62us/step - loss: 0.8883 - accuracy: 0.6771\n",
      "Epoch 25/300\n",
      "192/192 [==============================] - 0s 62us/step - loss: 0.8732 - accuracy: 0.6667\n",
      "Epoch 26/300\n",
      "192/192 [==============================] - 0s 62us/step - loss: 0.8589 - accuracy: 0.6667\n",
      "Epoch 27/300\n",
      "192/192 [==============================] - 0s 62us/step - loss: 0.8405 - accuracy: 0.6667\n",
      "Epoch 28/300\n",
      "192/192 [==============================] - 0s 57us/step - loss: 0.8337 - accuracy: 0.7031\n",
      "Epoch 29/300\n",
      "192/192 [==============================] - 0s 52us/step - loss: 0.8147 - accuracy: 0.6771\n",
      "Epoch 30/300\n",
      "192/192 [==============================] - 0s 57us/step - loss: 0.8048 - accuracy: 0.6771\n",
      "Epoch 31/300\n",
      "192/192 [==============================] - 0s 52us/step - loss: 0.7855 - accuracy: 0.6875\n",
      "Epoch 32/300\n",
      "192/192 [==============================] - 0s 52us/step - loss: 0.7755 - accuracy: 0.6927\n",
      "Epoch 33/300\n",
      "192/192 [==============================] - 0s 62us/step - loss: 0.7650 - accuracy: 0.6927\n",
      "Epoch 34/300\n",
      "192/192 [==============================] - 0s 62us/step - loss: 0.7539 - accuracy: 0.6979\n",
      "Epoch 35/300\n",
      "192/192 [==============================] - 0s 57us/step - loss: 0.7428 - accuracy: 0.7031\n",
      "Epoch 36/300\n",
      "192/192 [==============================] - 0s 52us/step - loss: 0.7324 - accuracy: 0.7135\n",
      "Epoch 37/300\n",
      "192/192 [==============================] - 0s 63us/step - loss: 0.7317 - accuracy: 0.7292\n",
      "Epoch 38/300\n",
      "192/192 [==============================] - 0s 68us/step - loss: 0.7163 - accuracy: 0.7344\n",
      "Epoch 39/300\n",
      "192/192 [==============================] - 0s 57us/step - loss: 0.7076 - accuracy: 0.7344\n",
      "Epoch 40/300\n",
      "192/192 [==============================] - 0s 63us/step - loss: 0.7066 - accuracy: 0.7344\n",
      "Epoch 41/300\n",
      "192/192 [==============================] - 0s 63us/step - loss: 0.6957 - accuracy: 0.7292\n",
      "Epoch 42/300\n",
      "192/192 [==============================] - 0s 68us/step - loss: 0.6902 - accuracy: 0.7396\n",
      "Epoch 43/300\n",
      "192/192 [==============================] - 0s 68us/step - loss: 0.6785 - accuracy: 0.7188\n",
      "Epoch 44/300\n",
      "192/192 [==============================] - 0s 62us/step - loss: 0.6732 - accuracy: 0.7240\n",
      "Epoch 45/300\n",
      "192/192 [==============================] - 0s 62us/step - loss: 0.6694 - accuracy: 0.7292\n",
      "Epoch 46/300\n",
      "192/192 [==============================] - 0s 63us/step - loss: 0.6601 - accuracy: 0.7396\n",
      "Epoch 47/300\n",
      "192/192 [==============================] - 0s 57us/step - loss: 0.6532 - accuracy: 0.7396\n",
      "Epoch 48/300\n",
      "192/192 [==============================] - 0s 57us/step - loss: 0.6493 - accuracy: 0.7344\n",
      "Epoch 49/300\n",
      "192/192 [==============================] - 0s 73us/step - loss: 0.6468 - accuracy: 0.7396\n",
      "Epoch 50/300\n",
      "192/192 [==============================] - 0s 68us/step - loss: 0.6429 - accuracy: 0.7240\n",
      "Epoch 51/300\n",
      "192/192 [==============================] - 0s 62us/step - loss: 0.6336 - accuracy: 0.7396\n",
      "Epoch 52/300\n",
      "192/192 [==============================] - 0s 57us/step - loss: 0.6270 - accuracy: 0.7344\n",
      "Epoch 53/300\n",
      "192/192 [==============================] - 0s 52us/step - loss: 0.6218 - accuracy: 0.7500\n",
      "Epoch 54/300\n",
      "192/192 [==============================] - 0s 57us/step - loss: 0.6211 - accuracy: 0.7448\n",
      "Epoch 55/300\n",
      "192/192 [==============================] - 0s 62us/step - loss: 0.6229 - accuracy: 0.7500\n",
      "Epoch 56/300\n",
      "192/192 [==============================] - 0s 73us/step - loss: 0.6170 - accuracy: 0.7448\n",
      "Epoch 57/300\n",
      "192/192 [==============================] - 0s 57us/step - loss: 0.6117 - accuracy: 0.7552\n",
      "Epoch 58/300\n",
      "192/192 [==============================] - 0s 63us/step - loss: 0.6016 - accuracy: 0.7552\n",
      "Epoch 59/300\n",
      "192/192 [==============================] - 0s 52us/step - loss: 0.5959 - accuracy: 0.7500\n",
      "Epoch 60/300\n",
      "192/192 [==============================] - 0s 62us/step - loss: 0.5906 - accuracy: 0.7500\n",
      "Epoch 61/300\n",
      "192/192 [==============================] - 0s 57us/step - loss: 0.5894 - accuracy: 0.7604\n",
      "Epoch 62/300\n",
      "192/192 [==============================] - 0s 57us/step - loss: 0.5848 - accuracy: 0.7500\n",
      "Epoch 63/300\n",
      "192/192 [==============================] - 0s 57us/step - loss: 0.5805 - accuracy: 0.7500\n",
      "Epoch 64/300\n",
      "192/192 [==============================] - 0s 52us/step - loss: 0.5778 - accuracy: 0.7604\n",
      "Epoch 65/300\n",
      "192/192 [==============================] - 0s 57us/step - loss: 0.5700 - accuracy: 0.7552\n",
      "Epoch 66/300\n",
      "192/192 [==============================] - 0s 57us/step - loss: 0.5689 - accuracy: 0.7604\n",
      "Epoch 67/300\n",
      "192/192 [==============================] - 0s 52us/step - loss: 0.5656 - accuracy: 0.7604\n",
      "Epoch 68/300\n",
      "192/192 [==============================] - 0s 57us/step - loss: 0.5615 - accuracy: 0.7708\n",
      "Epoch 69/300\n",
      "192/192 [==============================] - 0s 52us/step - loss: 0.5555 - accuracy: 0.7656\n",
      "Epoch 70/300\n",
      "192/192 [==============================] - 0s 63us/step - loss: 0.5506 - accuracy: 0.7604\n",
      "Epoch 71/300\n",
      "192/192 [==============================] - 0s 63us/step - loss: 0.5513 - accuracy: 0.7656\n",
      "Epoch 72/300\n",
      "192/192 [==============================] - 0s 62us/step - loss: 0.5533 - accuracy: 0.7760\n",
      "Epoch 73/300\n",
      "192/192 [==============================] - 0s 57us/step - loss: 0.5549 - accuracy: 0.7656\n",
      "Epoch 74/300\n",
      "192/192 [==============================] - 0s 52us/step - loss: 0.5343 - accuracy: 0.7760\n",
      "Epoch 75/300\n",
      "192/192 [==============================] - 0s 57us/step - loss: 0.5364 - accuracy: 0.7708\n",
      "Epoch 76/300\n",
      "192/192 [==============================] - 0s 57us/step - loss: 0.5336 - accuracy: 0.7708\n",
      "Epoch 77/300\n",
      "192/192 [==============================] - 0s 57us/step - loss: 0.5271 - accuracy: 0.7708\n",
      "Epoch 78/300\n",
      "192/192 [==============================] - 0s 57us/step - loss: 0.5214 - accuracy: 0.7708\n",
      "Epoch 79/300\n",
      "192/192 [==============================] - 0s 57us/step - loss: 0.5195 - accuracy: 0.7812\n",
      "Epoch 80/300\n",
      "192/192 [==============================] - 0s 57us/step - loss: 0.5164 - accuracy: 0.7708\n",
      "Epoch 81/300\n",
      "192/192 [==============================] - 0s 52us/step - loss: 0.5119 - accuracy: 0.7760\n",
      "Epoch 82/300\n",
      "192/192 [==============================] - 0s 62us/step - loss: 0.5117 - accuracy: 0.7812\n",
      "Epoch 83/300\n",
      "192/192 [==============================] - 0s 62us/step - loss: 0.5072 - accuracy: 0.7812\n",
      "Epoch 84/300\n",
      "192/192 [==============================] - 0s 57us/step - loss: 0.5047 - accuracy: 0.7812\n",
      "Epoch 85/300\n",
      "192/192 [==============================] - 0s 57us/step - loss: 0.5031 - accuracy: 0.7760\n",
      "Epoch 86/300\n",
      "192/192 [==============================] - 0s 52us/step - loss: 0.4984 - accuracy: 0.7760\n",
      "Epoch 87/300\n",
      "192/192 [==============================] - 0s 52us/step - loss: 0.4937 - accuracy: 0.7812\n",
      "Epoch 88/300\n",
      "192/192 [==============================] - 0s 57us/step - loss: 0.4906 - accuracy: 0.7865\n",
      "Epoch 89/300\n",
      "192/192 [==============================] - 0s 57us/step - loss: 0.4860 - accuracy: 0.7812\n",
      "Epoch 90/300\n",
      "192/192 [==============================] - 0s 57us/step - loss: 0.4934 - accuracy: 0.7812\n",
      "Epoch 91/300\n",
      "192/192 [==============================] - 0s 57us/step - loss: 0.4919 - accuracy: 0.7917\n",
      "Epoch 92/300\n",
      "192/192 [==============================] - 0s 57us/step - loss: 0.4893 - accuracy: 0.7917\n",
      "Epoch 93/300\n",
      "192/192 [==============================] - 0s 52us/step - loss: 0.4772 - accuracy: 0.7760\n",
      "Epoch 94/300\n",
      "192/192 [==============================] - 0s 57us/step - loss: 0.4743 - accuracy: 0.7865\n",
      "Epoch 95/300\n",
      "192/192 [==============================] - 0s 63us/step - loss: 0.4712 - accuracy: 0.7760\n",
      "Epoch 96/300\n",
      "192/192 [==============================] - 0s 52us/step - loss: 0.4688 - accuracy: 0.7865\n",
      "Epoch 97/300\n",
      "192/192 [==============================] - 0s 52us/step - loss: 0.4671 - accuracy: 0.7812\n",
      "Epoch 98/300\n",
      "192/192 [==============================] - 0s 52us/step - loss: 0.4666 - accuracy: 0.7760\n",
      "Epoch 99/300\n",
      "192/192 [==============================] - 0s 63us/step - loss: 0.4627 - accuracy: 0.7865\n",
      "Epoch 100/300\n",
      "192/192 [==============================] - 0s 57us/step - loss: 0.4591 - accuracy: 0.7917\n",
      "Epoch 101/300\n",
      "192/192 [==============================] - 0s 57us/step - loss: 0.4619 - accuracy: 0.7865\n",
      "Epoch 102/300\n",
      "192/192 [==============================] - 0s 63us/step - loss: 0.4535 - accuracy: 0.7917\n",
      "Epoch 103/300\n",
      "192/192 [==============================] - 0s 57us/step - loss: 0.4563 - accuracy: 0.7969\n",
      "Epoch 104/300\n",
      "192/192 [==============================] - 0s 57us/step - loss: 0.4505 - accuracy: 0.7917\n",
      "Epoch 105/300\n",
      "192/192 [==============================] - 0s 57us/step - loss: 0.4454 - accuracy: 0.7969\n",
      "Epoch 106/300\n",
      "192/192 [==============================] - 0s 63us/step - loss: 0.4433 - accuracy: 0.8021\n",
      "Epoch 107/300\n",
      "192/192 [==============================] - 0s 57us/step - loss: 0.4445 - accuracy: 0.7865\n",
      "Epoch 108/300\n",
      "192/192 [==============================] - 0s 68us/step - loss: 0.4455 - accuracy: 0.7917\n",
      "Epoch 109/300\n",
      "192/192 [==============================] - 0s 63us/step - loss: 0.4473 - accuracy: 0.7917\n",
      "Epoch 110/300\n",
      "192/192 [==============================] - 0s 52us/step - loss: 0.4397 - accuracy: 0.7969\n",
      "Epoch 111/300\n",
      "192/192 [==============================] - 0s 52us/step - loss: 0.4378 - accuracy: 0.8021\n",
      "Epoch 112/300\n",
      "192/192 [==============================] - 0s 57us/step - loss: 0.4323 - accuracy: 0.8021\n",
      "Epoch 113/300\n",
      "192/192 [==============================] - 0s 57us/step - loss: 0.4275 - accuracy: 0.8073\n",
      "Epoch 114/300\n",
      "192/192 [==============================] - 0s 57us/step - loss: 0.4291 - accuracy: 0.8021\n",
      "Epoch 115/300\n",
      "192/192 [==============================] - 0s 57us/step - loss: 0.4283 - accuracy: 0.8073\n",
      "Epoch 116/300\n",
      "192/192 [==============================] - 0s 57us/step - loss: 0.4214 - accuracy: 0.7917\n",
      "Epoch 117/300\n",
      "192/192 [==============================] - 0s 57us/step - loss: 0.4237 - accuracy: 0.8073\n",
      "Epoch 118/300\n",
      "192/192 [==============================] - 0s 68us/step - loss: 0.4189 - accuracy: 0.8021\n",
      "Epoch 119/300\n",
      "192/192 [==============================] - 0s 57us/step - loss: 0.4188 - accuracy: 0.8021\n",
      "Epoch 120/300\n",
      "192/192 [==============================] - 0s 57us/step - loss: 0.4252 - accuracy: 0.8073\n",
      "Epoch 121/300\n",
      "192/192 [==============================] - 0s 73us/step - loss: 0.4143 - accuracy: 0.8073\n",
      "Epoch 122/300\n",
      "192/192 [==============================] - 0s 62us/step - loss: 0.4178 - accuracy: 0.8021\n",
      "Epoch 123/300\n",
      "192/192 [==============================] - 0s 52us/step - loss: 0.4118 - accuracy: 0.8073\n",
      "Epoch 124/300\n",
      "192/192 [==============================] - 0s 52us/step - loss: 0.4097 - accuracy: 0.8073\n",
      "Epoch 125/300\n",
      "192/192 [==============================] - 0s 63us/step - loss: 0.4083 - accuracy: 0.8073\n",
      "Epoch 126/300\n",
      "192/192 [==============================] - 0s 63us/step - loss: 0.4083 - accuracy: 0.8073\n",
      "Epoch 127/300\n",
      "192/192 [==============================] - 0s 57us/step - loss: 0.4036 - accuracy: 0.8125\n",
      "Epoch 128/300\n",
      "192/192 [==============================] - 0s 62us/step - loss: 0.4057 - accuracy: 0.8021\n",
      "Epoch 129/300\n",
      "192/192 [==============================] - 0s 63us/step - loss: 0.4007 - accuracy: 0.8177\n",
      "Epoch 130/300\n",
      "192/192 [==============================] - 0s 62us/step - loss: 0.3994 - accuracy: 0.8177\n",
      "Epoch 131/300\n",
      "192/192 [==============================] - 0s 62us/step - loss: 0.4033 - accuracy: 0.8281\n",
      "Epoch 132/300\n",
      "192/192 [==============================] - 0s 57us/step - loss: 0.3986 - accuracy: 0.8177\n",
      "Epoch 133/300\n",
      "192/192 [==============================] - 0s 57us/step - loss: 0.4007 - accuracy: 0.8177\n",
      "Epoch 134/300\n",
      "192/192 [==============================] - 0s 57us/step - loss: 0.4018 - accuracy: 0.8125\n",
      "Epoch 135/300\n",
      "192/192 [==============================] - 0s 57us/step - loss: 0.3943 - accuracy: 0.8229\n",
      "Epoch 136/300\n",
      "192/192 [==============================] - 0s 57us/step - loss: 0.3961 - accuracy: 0.8073\n",
      "Epoch 137/300\n",
      "192/192 [==============================] - 0s 68us/step - loss: 0.4085 - accuracy: 0.8021\n",
      "Epoch 138/300\n",
      "192/192 [==============================] - 0s 57us/step - loss: 0.4032 - accuracy: 0.8021\n",
      "Epoch 139/300\n",
      "192/192 [==============================] - 0s 57us/step - loss: 0.3888 - accuracy: 0.7969\n",
      "Epoch 140/300\n",
      "192/192 [==============================] - 0s 63us/step - loss: 0.4056 - accuracy: 0.8333\n",
      "Epoch 141/300\n",
      "192/192 [==============================] - 0s 62us/step - loss: 0.4068 - accuracy: 0.7969\n",
      "Epoch 142/300\n",
      "192/192 [==============================] - 0s 57us/step - loss: 0.3962 - accuracy: 0.8333\n",
      "Epoch 143/300\n",
      "192/192 [==============================] - 0s 68us/step - loss: 0.3961 - accuracy: 0.8125\n",
      "Epoch 144/300\n",
      "192/192 [==============================] - 0s 62us/step - loss: 0.3840 - accuracy: 0.8125\n",
      "Epoch 145/300\n",
      "192/192 [==============================] - 0s 63us/step - loss: 0.3830 - accuracy: 0.8177\n",
      "Epoch 146/300\n",
      "192/192 [==============================] - 0s 57us/step - loss: 0.3836 - accuracy: 0.8281\n",
      "Epoch 147/300\n",
      "192/192 [==============================] - 0s 57us/step - loss: 0.3843 - accuracy: 0.8281\n",
      "Epoch 148/300\n",
      "192/192 [==============================] - 0s 63us/step - loss: 0.3874 - accuracy: 0.8229\n",
      "Epoch 149/300\n",
      "192/192 [==============================] - 0s 62us/step - loss: 0.3813 - accuracy: 0.8281\n",
      "Epoch 150/300\n",
      "192/192 [==============================] - 0s 62us/step - loss: 0.3818 - accuracy: 0.8281\n",
      "Epoch 151/300\n",
      "192/192 [==============================] - 0s 63us/step - loss: 0.3816 - accuracy: 0.8229\n",
      "Epoch 152/300\n",
      "192/192 [==============================] - 0s 68us/step - loss: 0.3761 - accuracy: 0.8281\n",
      "Epoch 153/300\n",
      "192/192 [==============================] - 0s 63us/step - loss: 0.3810 - accuracy: 0.8333\n",
      "Epoch 154/300\n",
      "192/192 [==============================] - 0s 57us/step - loss: 0.3738 - accuracy: 0.8333\n",
      "Epoch 155/300\n",
      "192/192 [==============================] - 0s 57us/step - loss: 0.3753 - accuracy: 0.8281\n",
      "Epoch 156/300\n",
      "192/192 [==============================] - 0s 57us/step - loss: 0.3745 - accuracy: 0.8333\n",
      "Epoch 157/300\n",
      "192/192 [==============================] - 0s 52us/step - loss: 0.3775 - accuracy: 0.8229\n",
      "Epoch 158/300\n",
      "192/192 [==============================] - 0s 57us/step - loss: 0.3815 - accuracy: 0.8229\n",
      "Epoch 159/300\n"
     ]
    },
    {
     "name": "stdout",
     "output_type": "stream",
     "text": [
      "192/192 [==============================] - 0s 57us/step - loss: 0.3697 - accuracy: 0.8333\n",
      "Epoch 160/300\n",
      "192/192 [==============================] - 0s 62us/step - loss: 0.3740 - accuracy: 0.8438\n",
      "Epoch 161/300\n",
      "192/192 [==============================] - 0s 78us/step - loss: 0.3681 - accuracy: 0.8281\n",
      "Epoch 162/300\n",
      "192/192 [==============================] - 0s 57us/step - loss: 0.3683 - accuracy: 0.8333\n",
      "Epoch 163/300\n",
      "192/192 [==============================] - 0s 57us/step - loss: 0.3709 - accuracy: 0.8385\n",
      "Epoch 164/300\n",
      "192/192 [==============================] - 0s 68us/step - loss: 0.3668 - accuracy: 0.8385\n",
      "Epoch 165/300\n",
      "192/192 [==============================] - 0s 57us/step - loss: 0.3751 - accuracy: 0.8385\n",
      "Epoch 166/300\n",
      "192/192 [==============================] - 0s 63us/step - loss: 0.3645 - accuracy: 0.8333\n",
      "Epoch 167/300\n",
      "192/192 [==============================] - 0s 57us/step - loss: 0.3657 - accuracy: 0.8281\n",
      "Epoch 168/300\n",
      "192/192 [==============================] - 0s 63us/step - loss: 0.3648 - accuracy: 0.8438\n",
      "Epoch 169/300\n",
      "192/192 [==============================] - 0s 57us/step - loss: 0.3639 - accuracy: 0.8385\n",
      "Epoch 170/300\n",
      "192/192 [==============================] - 0s 52us/step - loss: 0.3659 - accuracy: 0.8281\n",
      "Epoch 171/300\n",
      "192/192 [==============================] - 0s 52us/step - loss: 0.3612 - accuracy: 0.8385\n",
      "Epoch 172/300\n",
      "192/192 [==============================] - 0s 62us/step - loss: 0.3727 - accuracy: 0.8438\n",
      "Epoch 173/300\n",
      "192/192 [==============================] - 0s 63us/step - loss: 0.3645 - accuracy: 0.8490\n",
      "Epoch 174/300\n",
      "192/192 [==============================] - 0s 57us/step - loss: 0.3630 - accuracy: 0.8542\n",
      "Epoch 175/300\n",
      "192/192 [==============================] - 0s 57us/step - loss: 0.3611 - accuracy: 0.8385\n",
      "Epoch 176/300\n",
      "192/192 [==============================] - 0s 57us/step - loss: 0.3587 - accuracy: 0.8385\n",
      "Epoch 177/300\n",
      "192/192 [==============================] - 0s 57us/step - loss: 0.3595 - accuracy: 0.8438\n",
      "Epoch 178/300\n",
      "192/192 [==============================] - 0s 57us/step - loss: 0.3657 - accuracy: 0.8281\n",
      "Epoch 179/300\n",
      "192/192 [==============================] - 0s 57us/step - loss: 0.3649 - accuracy: 0.8542\n",
      "Epoch 180/300\n",
      "192/192 [==============================] - 0s 57us/step - loss: 0.3638 - accuracy: 0.8490\n",
      "Epoch 181/300\n",
      "192/192 [==============================] - 0s 57us/step - loss: 0.3652 - accuracy: 0.8438\n",
      "Epoch 182/300\n",
      "192/192 [==============================] - 0s 57us/step - loss: 0.3591 - accuracy: 0.8542\n",
      "Epoch 183/300\n",
      "192/192 [==============================] - 0s 62us/step - loss: 0.3592 - accuracy: 0.8438\n",
      "Epoch 184/300\n",
      "192/192 [==============================] - 0s 57us/step - loss: 0.3613 - accuracy: 0.8490\n",
      "Epoch 185/300\n",
      "192/192 [==============================] - 0s 63us/step - loss: 0.3590 - accuracy: 0.8594\n",
      "Epoch 186/300\n",
      "192/192 [==============================] - 0s 57us/step - loss: 0.3556 - accuracy: 0.8490\n",
      "Epoch 187/300\n",
      "192/192 [==============================] - 0s 57us/step - loss: 0.3571 - accuracy: 0.8542\n",
      "Epoch 188/300\n",
      "192/192 [==============================] - 0s 57us/step - loss: 0.3569 - accuracy: 0.8490\n",
      "Epoch 189/300\n",
      "192/192 [==============================] - 0s 57us/step - loss: 0.3581 - accuracy: 0.8490\n",
      "Epoch 190/300\n",
      "192/192 [==============================] - 0s 57us/step - loss: 0.3539 - accuracy: 0.8490\n",
      "Epoch 191/300\n",
      "192/192 [==============================] - 0s 63us/step - loss: 0.3586 - accuracy: 0.8438\n",
      "Epoch 192/300\n",
      "192/192 [==============================] - 0s 68us/step - loss: 0.3531 - accuracy: 0.8490\n",
      "Epoch 193/300\n",
      "192/192 [==============================] - 0s 57us/step - loss: 0.3551 - accuracy: 0.8542\n",
      "Epoch 194/300\n",
      "192/192 [==============================] - 0s 62us/step - loss: 0.3523 - accuracy: 0.8490\n",
      "Epoch 195/300\n",
      "192/192 [==============================] - 0s 52us/step - loss: 0.3546 - accuracy: 0.8438\n",
      "Epoch 196/300\n",
      "192/192 [==============================] - 0s 52us/step - loss: 0.3552 - accuracy: 0.8490\n",
      "Epoch 197/300\n",
      "192/192 [==============================] - 0s 57us/step - loss: 0.3489 - accuracy: 0.8490\n",
      "Epoch 198/300\n",
      "192/192 [==============================] - 0s 62us/step - loss: 0.3519 - accuracy: 0.8542\n",
      "Epoch 199/300\n",
      "192/192 [==============================] - 0s 57us/step - loss: 0.3608 - accuracy: 0.8385\n",
      "Epoch 200/300\n",
      "192/192 [==============================] - 0s 57us/step - loss: 0.3519 - accuracy: 0.8438\n",
      "Epoch 201/300\n",
      "192/192 [==============================] - 0s 57us/step - loss: 0.3521 - accuracy: 0.8646\n",
      "Epoch 202/300\n",
      "192/192 [==============================] - 0s 57us/step - loss: 0.3560 - accuracy: 0.8333\n",
      "Epoch 203/300\n",
      "192/192 [==============================] - 0s 62us/step - loss: 0.3525 - accuracy: 0.8646\n",
      "Epoch 204/300\n",
      "192/192 [==============================] - 0s 63us/step - loss: 0.3490 - accuracy: 0.8490\n",
      "Epoch 205/300\n",
      "192/192 [==============================] - 0s 63us/step - loss: 0.3516 - accuracy: 0.8594\n",
      "Epoch 206/300\n",
      "192/192 [==============================] - 0s 63us/step - loss: 0.3502 - accuracy: 0.8490\n",
      "Epoch 207/300\n",
      "192/192 [==============================] - 0s 62us/step - loss: 0.3507 - accuracy: 0.8594\n",
      "Epoch 208/300\n",
      "192/192 [==============================] - 0s 57us/step - loss: 0.3500 - accuracy: 0.8646\n",
      "Epoch 209/300\n",
      "192/192 [==============================] - 0s 57us/step - loss: 0.3521 - accuracy: 0.8490\n",
      "Epoch 210/300\n",
      "192/192 [==============================] - 0s 63us/step - loss: 0.3453 - accuracy: 0.8594\n",
      "Epoch 211/300\n",
      "192/192 [==============================] - 0s 62us/step - loss: 0.3492 - accuracy: 0.8698\n",
      "Epoch 212/300\n",
      "192/192 [==============================] - 0s 57us/step - loss: 0.3471 - accuracy: 0.8542\n",
      "Epoch 213/300\n",
      "192/192 [==============================] - 0s 57us/step - loss: 0.3468 - accuracy: 0.8490\n",
      "Epoch 214/300\n",
      "192/192 [==============================] - 0s 57us/step - loss: 0.3488 - accuracy: 0.8646\n",
      "Epoch 215/300\n",
      "192/192 [==============================] - 0s 57us/step - loss: 0.3470 - accuracy: 0.8542\n",
      "Epoch 216/300\n",
      "192/192 [==============================] - 0s 57us/step - loss: 0.3469 - accuracy: 0.8542\n",
      "Epoch 217/300\n",
      "192/192 [==============================] - 0s 63us/step - loss: 0.3449 - accuracy: 0.8594\n",
      "Epoch 218/300\n",
      "192/192 [==============================] - 0s 57us/step - loss: 0.3450 - accuracy: 0.8594\n",
      "Epoch 219/300\n",
      "192/192 [==============================] - 0s 57us/step - loss: 0.3434 - accuracy: 0.8594\n",
      "Epoch 220/300\n",
      "192/192 [==============================] - 0s 62us/step - loss: 0.3498 - accuracy: 0.8542\n",
      "Epoch 221/300\n",
      "192/192 [==============================] - 0s 57us/step - loss: 0.3437 - accuracy: 0.8750\n",
      "Epoch 222/300\n",
      "192/192 [==============================] - 0s 57us/step - loss: 0.3454 - accuracy: 0.8490\n",
      "Epoch 223/300\n",
      "192/192 [==============================] - 0s 52us/step - loss: 0.3593 - accuracy: 0.8542\n",
      "Epoch 224/300\n",
      "192/192 [==============================] - 0s 62us/step - loss: 0.3471 - accuracy: 0.8594\n",
      "Epoch 225/300\n",
      "192/192 [==============================] - 0s 57us/step - loss: 0.3461 - accuracy: 0.8438\n",
      "Epoch 226/300\n",
      "192/192 [==============================] - 0s 57us/step - loss: 0.3474 - accuracy: 0.8646\n",
      "Epoch 227/300\n",
      "192/192 [==============================] - 0s 62us/step - loss: 0.3431 - accuracy: 0.8646\n",
      "Epoch 228/300\n",
      "192/192 [==============================] - 0s 62us/step - loss: 0.3460 - accuracy: 0.8542\n",
      "Epoch 229/300\n",
      "192/192 [==============================] - 0s 57us/step - loss: 0.3545 - accuracy: 0.8542\n",
      "Epoch 230/300\n",
      "192/192 [==============================] - 0s 57us/step - loss: 0.3414 - accuracy: 0.8646\n",
      "Epoch 231/300\n",
      "192/192 [==============================] - 0s 57us/step - loss: 0.3492 - accuracy: 0.8490\n",
      "Epoch 232/300\n",
      "192/192 [==============================] - 0s 78us/step - loss: 0.3467 - accuracy: 0.8542\n",
      "Epoch 233/300\n",
      "192/192 [==============================] - 0s 68us/step - loss: 0.3431 - accuracy: 0.8542\n",
      "Epoch 234/300\n",
      "192/192 [==============================] - 0s 57us/step - loss: 0.3498 - accuracy: 0.8594\n",
      "Epoch 235/300\n",
      "192/192 [==============================] - 0s 57us/step - loss: 0.3383 - accuracy: 0.8542\n",
      "Epoch 236/300\n",
      "192/192 [==============================] - 0s 63us/step - loss: 0.3449 - accuracy: 0.8594\n",
      "Epoch 237/300\n",
      "192/192 [==============================] - 0s 57us/step - loss: 0.3380 - accuracy: 0.8750\n",
      "Epoch 238/300\n",
      "192/192 [==============================] - 0s 47us/step - loss: 0.3446 - accuracy: 0.8594\n",
      "Epoch 239/300\n",
      "192/192 [==============================] - 0s 62us/step - loss: 0.3471 - accuracy: 0.8594\n",
      "Epoch 240/300\n",
      "192/192 [==============================] - 0s 57us/step - loss: 0.3381 - accuracy: 0.8542\n",
      "Epoch 241/300\n",
      "192/192 [==============================] - 0s 57us/step - loss: 0.3410 - accuracy: 0.8698\n",
      "Epoch 242/300\n",
      "192/192 [==============================] - 0s 62us/step - loss: 0.3408 - accuracy: 0.8594\n",
      "Epoch 243/300\n",
      "192/192 [==============================] - 0s 57us/step - loss: 0.3443 - accuracy: 0.8438\n",
      "Epoch 244/300\n",
      "192/192 [==============================] - 0s 57us/step - loss: 0.3346 - accuracy: 0.8750\n",
      "Epoch 245/300\n",
      "192/192 [==============================] - 0s 57us/step - loss: 0.3466 - accuracy: 0.8594\n",
      "Epoch 246/300\n",
      "192/192 [==============================] - 0s 57us/step - loss: 0.3512 - accuracy: 0.8490\n",
      "Epoch 247/300\n",
      "192/192 [==============================] - 0s 57us/step - loss: 0.3358 - accuracy: 0.8490\n",
      "Epoch 248/300\n",
      "192/192 [==============================] - 0s 63us/step - loss: 0.3512 - accuracy: 0.8542\n",
      "Epoch 249/300\n",
      "192/192 [==============================] - 0s 57us/step - loss: 0.3382 - accuracy: 0.8542\n",
      "Epoch 250/300\n",
      "192/192 [==============================] - 0s 62us/step - loss: 0.3381 - accuracy: 0.8698\n",
      "Epoch 251/300\n",
      "192/192 [==============================] - 0s 57us/step - loss: 0.3408 - accuracy: 0.8594\n",
      "Epoch 252/300\n",
      "192/192 [==============================] - 0s 57us/step - loss: 0.3408 - accuracy: 0.8646\n",
      "Epoch 253/300\n",
      "192/192 [==============================] - 0s 57us/step - loss: 0.3371 - accuracy: 0.8646\n",
      "Epoch 254/300\n",
      "192/192 [==============================] - 0s 58us/step - loss: 0.3406 - accuracy: 0.8750\n",
      "Epoch 255/300\n",
      "192/192 [==============================] - 0s 62us/step - loss: 0.3386 - accuracy: 0.8750\n",
      "Epoch 256/300\n",
      "192/192 [==============================] - 0s 62us/step - loss: 0.3382 - accuracy: 0.8594\n",
      "Epoch 257/300\n",
      "192/192 [==============================] - 0s 62us/step - loss: 0.3477 - accuracy: 0.8594\n",
      "Epoch 258/300\n",
      "192/192 [==============================] - 0s 63us/step - loss: 0.3424 - accuracy: 0.8542\n",
      "Epoch 259/300\n",
      "192/192 [==============================] - 0s 63us/step - loss: 0.3533 - accuracy: 0.8490\n",
      "Epoch 260/300\n",
      "192/192 [==============================] - 0s 57us/step - loss: 0.3332 - accuracy: 0.8698\n",
      "Epoch 261/300\n",
      "192/192 [==============================] - 0s 63us/step - loss: 0.3470 - accuracy: 0.8594\n",
      "Epoch 262/300\n",
      "192/192 [==============================] - 0s 63us/step - loss: 0.3372 - accuracy: 0.8594\n",
      "Epoch 263/300\n",
      "192/192 [==============================] - 0s 63us/step - loss: 0.3390 - accuracy: 0.8542\n",
      "Epoch 264/300\n",
      "192/192 [==============================] - 0s 62us/step - loss: 0.3479 - accuracy: 0.8646\n",
      "Epoch 265/300\n",
      "192/192 [==============================] - 0s 57us/step - loss: 0.3499 - accuracy: 0.8125\n",
      "Epoch 266/300\n",
      "192/192 [==============================] - 0s 63us/step - loss: 0.3329 - accuracy: 0.8594\n",
      "Epoch 267/300\n",
      "192/192 [==============================] - 0s 68us/step - loss: 0.3399 - accuracy: 0.8594\n",
      "Epoch 268/300\n",
      "192/192 [==============================] - 0s 63us/step - loss: 0.3385 - accuracy: 0.8594\n",
      "Epoch 269/300\n",
      "192/192 [==============================] - 0s 63us/step - loss: 0.3487 - accuracy: 0.8542\n",
      "Epoch 270/300\n",
      "192/192 [==============================] - 0s 62us/step - loss: 0.3486 - accuracy: 0.8750\n",
      "Epoch 271/300\n",
      "192/192 [==============================] - 0s 62us/step - loss: 0.3363 - accuracy: 0.8802\n",
      "Epoch 272/300\n",
      "192/192 [==============================] - 0s 63us/step - loss: 0.3393 - accuracy: 0.8594\n",
      "Epoch 273/300\n",
      "192/192 [==============================] - 0s 63us/step - loss: 0.3373 - accuracy: 0.8646\n",
      "Epoch 274/300\n",
      "192/192 [==============================] - 0s 62us/step - loss: 0.3480 - accuracy: 0.8594\n",
      "Epoch 275/300\n",
      "192/192 [==============================] - 0s 57us/step - loss: 0.3365 - accuracy: 0.8698\n",
      "Epoch 276/300\n",
      "192/192 [==============================] - 0s 62us/step - loss: 0.3355 - accuracy: 0.8594\n",
      "Epoch 277/300\n",
      "192/192 [==============================] - 0s 62us/step - loss: 0.3400 - accuracy: 0.8646\n",
      "Epoch 278/300\n",
      "192/192 [==============================] - 0s 57us/step - loss: 0.3349 - accuracy: 0.8594\n",
      "Epoch 279/300\n",
      "192/192 [==============================] - 0s 57us/step - loss: 0.3339 - accuracy: 0.8698\n",
      "Epoch 280/300\n",
      "192/192 [==============================] - 0s 63us/step - loss: 0.3380 - accuracy: 0.8698\n",
      "Epoch 281/300\n",
      "192/192 [==============================] - 0s 62us/step - loss: 0.3345 - accuracy: 0.8594\n",
      "Epoch 282/300\n",
      "192/192 [==============================] - 0s 57us/step - loss: 0.3340 - accuracy: 0.8698\n",
      "Epoch 283/300\n",
      "192/192 [==============================] - 0s 68us/step - loss: 0.3349 - accuracy: 0.8750\n",
      "Epoch 284/300\n",
      "192/192 [==============================] - 0s 52us/step - loss: 0.3436 - accuracy: 0.8542\n",
      "Epoch 285/300\n",
      "192/192 [==============================] - 0s 57us/step - loss: 0.3371 - accuracy: 0.8646\n",
      "Epoch 286/300\n",
      "192/192 [==============================] - 0s 57us/step - loss: 0.3376 - accuracy: 0.8802\n",
      "Epoch 287/300\n",
      "192/192 [==============================] - 0s 57us/step - loss: 0.3358 - accuracy: 0.8698\n",
      "Epoch 288/300\n",
      "192/192 [==============================] - 0s 63us/step - loss: 0.3359 - accuracy: 0.8594\n",
      "Epoch 289/300\n",
      "192/192 [==============================] - 0s 62us/step - loss: 0.3318 - accuracy: 0.8802\n",
      "Epoch 290/300\n",
      "192/192 [==============================] - 0s 57us/step - loss: 0.3387 - accuracy: 0.8750\n",
      "Epoch 291/300\n",
      "192/192 [==============================] - 0s 62us/step - loss: 0.3331 - accuracy: 0.8802\n",
      "Epoch 292/300\n",
      "192/192 [==============================] - 0s 57us/step - loss: 0.3335 - accuracy: 0.8750\n",
      "Epoch 293/300\n",
      "192/192 [==============================] - 0s 57us/step - loss: 0.3372 - accuracy: 0.8594\n",
      "Epoch 294/300\n",
      "192/192 [==============================] - 0s 57us/step - loss: 0.3367 - accuracy: 0.8750\n",
      "Epoch 295/300\n",
      "192/192 [==============================] - 0s 57us/step - loss: 0.3388 - accuracy: 0.8490\n",
      "Epoch 296/300\n",
      "192/192 [==============================] - 0s 63us/step - loss: 0.3368 - accuracy: 0.8594\n",
      "Epoch 297/300\n",
      "192/192 [==============================] - 0s 62us/step - loss: 0.3358 - accuracy: 0.8594\n",
      "Epoch 298/300\n",
      "192/192 [==============================] - 0s 62us/step - loss: 0.3343 - accuracy: 0.8646\n",
      "Epoch 299/300\n",
      "192/192 [==============================] - 0s 57us/step - loss: 0.3395 - accuracy: 0.8542\n",
      "Epoch 300/300\n",
      "192/192 [==============================] - 0s 63us/step - loss: 0.3332 - accuracy: 0.8646\n"
     ]
    }
   ],
   "source": [
    "np.random.seed(1234)\n",
    "\n",
    "# Fitting model\n",
    "nn_model = Sequential()\n",
    "# Definition of activation function:\n",
    "# ReLu stands for the rectified linear unit. It output 0 for negative values of x\n",
    "nn_model.add(Dense(11,activation='relu',input_dim=13))\n",
    "# Binary Sigmoid Function is a logistic function where the output values are either binary or vary from 0 to 1\n",
    "nn_model.add(Dense(1,activation='sigmoid'))\n",
    "\n",
    "# Cross-entropy loss, or log loss, measures the performance of a classification model whose output is a probability value between 0 and 1\n",
    "nn_model.compile(loss='binary_crossentropy',optimizer='adam',metrics=['accuracy'])\n",
    "\n",
    "# Epochs are arbitrary cutoffs, generally defined as \"one pass over the entire dataset\", \n",
    "#used to separate training into distinct phases, which is useful for logging and periodic evaluation\n",
    "nn_model.fit(X_train, y_train, epochs=300)\n",
    "\n",
    "# Predicting the Test set results\n",
    "y_pred_nn =nn_model.predict(X_test)\n",
    "rounded = [round(x[0]) for x in y_pred_nn]\n",
    "y_pred_nn = rounded"
   ]
  },
  {
   "cell_type": "code",
   "execution_count": 30,
   "metadata": {},
   "outputs": [
    {
     "name": "stdout",
     "output_type": "stream",
     "text": [
      "Confusion Matrix:\n",
      "[[28  2]\n",
      " [ 3 16]]\n",
      "\n",
      "Accuratezza sul test set per Neural Network: 89.8%\n"
     ]
    }
   ],
   "source": [
    "# Confusion matrix\n",
    "nn_cm_test = confusion_matrix(y_pred_nn,y_test)\n",
    "\n",
    "# Evaluate score\n",
    "score_nn = round(accuracy_score(y_pred_nn,y_test)*100,2)\n",
    "\n",
    "print('Confusion Matrix:')\n",
    "print(nn_cm_test)\n",
    "print()\n",
    "print('Accuratezza sul test set per Neural Network: '+str(score_nn)+'%')"
   ]
  },
  {
   "cell_type": "markdown",
   "metadata": {},
   "source": [
    "### 3.5. Confronto dei risultati"
   ]
  },
  {
   "cell_type": "code",
   "execution_count": 31,
   "metadata": {},
   "outputs": [
    {
     "data": {
      "text/html": [
       "<div>\n",
       "<style scoped>\n",
       "    .dataframe tbody tr th:only-of-type {\n",
       "        vertical-align: middle;\n",
       "    }\n",
       "\n",
       "    .dataframe tbody tr th {\n",
       "        vertical-align: top;\n",
       "    }\n",
       "\n",
       "    .dataframe thead th {\n",
       "        text-align: right;\n",
       "    }\n",
       "</style>\n",
       "<table border=\"1\" class=\"dataframe\">\n",
       "  <thead>\n",
       "    <tr style=\"text-align: right;\">\n",
       "      <th></th>\n",
       "      <th>Algorithm</th>\n",
       "      <th>Score</th>\n",
       "    </tr>\n",
       "  </thead>\n",
       "  <tbody>\n",
       "    <tr>\n",
       "      <th>5</th>\n",
       "      <td>Random Forest</td>\n",
       "      <td>93.88</td>\n",
       "    </tr>\n",
       "    <tr>\n",
       "      <th>1</th>\n",
       "      <td>Naive Bayes</td>\n",
       "      <td>91.84</td>\n",
       "    </tr>\n",
       "    <tr>\n",
       "      <th>0</th>\n",
       "      <td>Logistic Regression</td>\n",
       "      <td>89.80</td>\n",
       "    </tr>\n",
       "    <tr>\n",
       "      <th>4</th>\n",
       "      <td>Decision Tree</td>\n",
       "      <td>89.80</td>\n",
       "    </tr>\n",
       "    <tr>\n",
       "      <th>7</th>\n",
       "      <td>Neural Network</td>\n",
       "      <td>89.80</td>\n",
       "    </tr>\n",
       "    <tr>\n",
       "      <th>2</th>\n",
       "      <td>Support Vector Machine</td>\n",
       "      <td>87.76</td>\n",
       "    </tr>\n",
       "    <tr>\n",
       "      <th>6</th>\n",
       "      <td>XGBoost</td>\n",
       "      <td>79.59</td>\n",
       "    </tr>\n",
       "    <tr>\n",
       "      <th>3</th>\n",
       "      <td>K-Nearest Neighbors</td>\n",
       "      <td>77.55</td>\n",
       "    </tr>\n",
       "  </tbody>\n",
       "</table>\n",
       "</div>"
      ],
      "text/plain": [
       "                Algorithm  Score\n",
       "5           Random Forest  93.88\n",
       "1             Naive Bayes  91.84\n",
       "0     Logistic Regression  89.80\n",
       "4           Decision Tree  89.80\n",
       "7          Neural Network  89.80\n",
       "2  Support Vector Machine  87.76\n",
       "6                 XGBoost  79.59\n",
       "3     K-Nearest Neighbors  77.55"
      ]
     },
     "execution_count": 31,
     "metadata": {},
     "output_type": "execute_result"
    }
   ],
   "source": [
    "# list of algorithms and scores \n",
    "\n",
    "d = {\n",
    "'Algorithm':[\"Logistic Regression\",\"Naive Bayes\",\"Support Vector Machine\",\"K-Nearest Neighbors\",\"Decision Tree\",\"Random Forest\",\"XGBoost\",\"Neural Network\"],\n",
    "'Score':[score_lr,score_nb,score_svm,score_knn,score_dt,score_rf,score_xgb,score_nn]}\n",
    "df = pd.DataFrame(d)\n",
    "\n",
    "df.sort_values(by=['Score'], inplace=True, ascending=False)\n",
    "df "
   ]
  },
  {
   "cell_type": "code",
   "execution_count": 32,
   "metadata": {},
   "outputs": [
    {
     "data": {
      "text/plain": [
       "<matplotlib.axes._subplots.AxesSubplot at 0x23f4f13a9e8>"
      ]
     },
     "execution_count": 32,
     "metadata": {},
     "output_type": "execute_result"
    },
    {
     "data": {
      "image/png": "[encoded data removed]",
      "text/plain": [
       "<Figure size 1080x576 with 1 Axes>"
      ]
     },
     "metadata": {},
     "output_type": "display_data"
    }
   ],
   "source": [
    "sns.set(rc={'figure.figsize':(15,8)})\n",
    "\n",
    "sns.barplot(x='Algorithm',y='Score', data=df, palette=\"ocean\")"
   ]
  },
  {
   "cell_type": "markdown",
   "metadata": {},
   "source": [
    "Come si può vedere, tutti gli algoritmi danno risultati molto soddisfacenti in termini di accuratezza. Gli algoritmi migliori risultano *Random Forest* e *Naive Bayes*, seguiti dalla *Regressione Logistica*, *Decision Tree* e *Reti Neurali* (questi valori valgono naturalmente in riferimento al dataset preso in considerazione e possono variare in base ai dati di input)"
   ]
  }
 ],
 "metadata": {
  "kernelspec": {
   "display_name": "Python 3",
   "language": "python",
   "name": "python3"
  },
  "language_info": {
   "codemirror_mode": {
    "name": "ipython",
    "version": 3
   },
   "file_extension": ".py",
   "mimetype": "text/x-python",
   "name": "python",
   "nbconvert_exporter": "python",
   "pygments_lexer": "ipython3",
   "version": "3.7.1"
  }
 },
 "nbformat": 4,
 "nbformat_minor": 2
}
